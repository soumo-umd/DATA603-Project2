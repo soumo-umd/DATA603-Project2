{
 "cells": [
  {
   "cell_type": "markdown",
   "metadata": {
    "id": "bbFQEWBCazor"
   },
   "source": [
    "## Thu Cao"
   ]
  },
  {
   "cell_type": "markdown",
   "metadata": {},
   "source": [
    "Pose Dataset"
   ]
  },
  {
   "cell_type": "code",
   "execution_count": 82,
   "metadata": {
    "id": "_11GbDyPamWV"
   },
   "outputs": [],
   "source": [
    "import scipy.io\r\n",
    "import numpy as np\r\n",
    "import pandas as pd\r\n",
    "from tqdm.notebook import tqdm\r\n",
    "import matplotlib.pyplot as plt\r\n",
    "import seaborn as sns\r\n",
    "from collections import Counter\r\n",
    "import cv2\r\n",
    "import os\r\n",
    "import glob\r\n",
    "import skimage\r\n",
    "from scipy import io as spio\r\n",
    "import numpy as np\r\n",
    "import pandas as pd\r\n",
    "import seaborn as sn\r\n",
    "from tqdm import tqdm\r\n",
    "from PIL import Image\r\n",
    "from os import listdir\r\n",
    "import matplotlib.pyplot as plt\r\n",
    "from skimage.transform import resize\r\n",
    "from collections import Counter\r\n",
    "\r\n",
    "sn.set()\r\n",
    "\r\n",
    "from sklearn.svm import SVC # SVC\r\n",
    "from sklearn import metrics\r\n",
    "from sklearn.decomposition import PCA\r\n",
    "from sklearn.utils import shuffle\r\n",
    "from sklearn import metrics\r\n",
    "from sklearn.metrics import accuracy_score\r\n",
    "from sklearn.metrics import confusion_matrix, accuracy_score\r\n",
    "from sklearn.model_selection import train_test_split\r\n",
    "\r\n",
    "import tensorflow \r\n",
    "from tensorflow.keras.preprocessing import image\r\n",
    "from tensorflow.keras.models import Model, Sequential\r\n",
    "from tensorflow.keras.applications.vgg16 import VGG16 # VGG16\r\n",
    "from tensorflow.keras.applications.vgg19 import VGG19 # VGG19\r\n",
    "from tensorflow.keras.applications.resnet50 import ResNet50 # ResNet50\r\n",
    "from tensorflow.keras.applications.xception import Xception # Xception\r\n",
    "from tensorflow.keras.applications.mobilenet import MobileNet # MobileNet\r\n",
    "from tensorflow.keras.applications.nasnet import NASNetMobile # NASNetMobile\r\n",
    "from tensorflow.keras.applications.densenet import DenseNet169 # DenseNet169\r\n",
    "from tensorflow.keras.applications.densenet import DenseNet121 # DenseNet121\r\n",
    "from tensorflow.keras.applications.mobilenet_v2 import MobileNetV2 # MobileNetV2\r\n",
    "from tensorflow.keras.applications.inception_v3 import InceptionV3 # InceptionV3\r\n",
    "from tensorflow.keras.layers import Input, Dense, Dropout, BatchNormalization, Flatten, Activation, GlobalAveragePooling2D,Conv2D, MaxPooling2D\r\n",
    "from tensorflow.keras.callbacks import EarlyStopping, ModelCheckpoint\r\n",
    "from keras.preprocessing.image import ImageDataGenerator\r\n",
    "from keras.utils.np_utils import to_categorical # convert to one-hot-encoding\r\n",
    "import keras\r\n",
    "import warnings\r\n",
    "warnings.filterwarnings(\"ignore\")"
   ]
  },
  {
   "cell_type": "markdown",
   "metadata": {
    "id": "bUEcQGLiTBCA"
   },
   "source": [
    "# Loading The Dataset"
   ]
  },
  {
   "cell_type": "code",
   "execution_count": 83,
   "metadata": {
    "id": "9t9tS-iNa9qf"
   },
   "outputs": [],
   "source": [
    "#loading the dataset\r\n",
    "pose = spio.loadmat('pose.mat')"
   ]
  },
  {
   "cell_type": "code",
   "execution_count": 84,
   "metadata": {
    "colab": {
     "base_uri": "https://localhost:8080/"
    },
    "id": "TD52NDCpbWcS",
    "outputId": "199dfded-e63c-45d1-eff6-0b263c61422e"
   },
   "outputs": [
    {
     "data": {
      "text/plain": [
       "(48, 40, 13, 68)"
      ]
     },
     "execution_count": 84,
     "metadata": {},
     "output_type": "execute_result"
    }
   ],
   "source": [
    "pose['pose'].shape"
   ]
  },
  {
   "cell_type": "code",
   "execution_count": 85,
   "metadata": {
    "colab": {
     "base_uri": "https://localhost:8080/"
    },
    "id": "gEChtDVCbZXx",
    "outputId": "cbf439c7-c15d-408c-ef3a-18ef6dd0654c"
   },
   "outputs": [
    {
     "data": {
      "text/plain": [
       "(68, 13, 40, 48)"
      ]
     },
     "execution_count": 85,
     "metadata": {},
     "output_type": "execute_result"
    }
   ],
   "source": [
    "X = pose['pose'].transpose(3, 2, 1, 0)\r\n",
    "X.shape"
   ]
  },
  {
   "cell_type": "code",
   "execution_count": 86,
   "metadata": {
    "id": "xjXXhuIbbbZG"
   },
   "outputs": [],
   "source": [
    "X = np.vstack([np.expand_dims(X[x, y, :, :], axis=0) for x in range(68) for y in range(13)])\r\n",
    "y = np.array([j for i in range(68) for j in range(13)])"
   ]
  },
  {
   "cell_type": "code",
   "execution_count": 87,
   "metadata": {
    "id": "47mVfEUCUPD8"
   },
   "outputs": [],
   "source": [
    "X = np.vstack([np.concatenate(X[i], axis=0) for i in range(len(X))])"
   ]
  },
  {
   "cell_type": "code",
   "execution_count": 88,
   "metadata": {
    "colab": {
     "base_uri": "https://localhost:8080/"
    },
    "id": "9WTRjk2GcjF0",
    "outputId": "75d63ee3-9b37-4302-f9d5-70aa00f7b079"
   },
   "outputs": [
    {
     "data": {
      "text/plain": [
       "((884, 1920), (884,))"
      ]
     },
     "execution_count": 88,
     "metadata": {},
     "output_type": "execute_result"
    }
   ],
   "source": [
    "X.shape, y.shape"
   ]
  },
  {
   "cell_type": "markdown",
   "metadata": {
    "id": "xTzRvlSenQA4"
   },
   "source": [
    "## Preprocessing the Data\r\n",
    "Creating three different functions:<br>\r\n",
    "- **resize** - This is created to resize the images in the given size\r\n",
    "- **resize_images** - This is resize the given array of images\r\n",
    "- **to_RGB** - This is used to convert the Black & White image into RGB image"
   ]
  },
  {
   "cell_type": "code",
   "execution_count": 89,
   "metadata": {
    "id": "e52QBR_3eTzm"
   },
   "outputs": [],
   "source": [
    "def resize(image,size):\r\n",
    "    image2 = np.zeros(size)\r\n",
    "    for i in range(image.shape[0]):\r\n",
    "        for j in range(image.shape[1]):\r\n",
    "            image2[i+2,j+2] = image[i,j]\r\n",
    "    return image2\r\n",
    "\r\n",
    "def resize_images(array,size):\r\n",
    "    \r\n",
    "    for image in array:\r\n",
    "        x=[]\r\n",
    "        image2 = np.zeros(size)\r\n",
    "        for i in range(image.shape[0]):\r\n",
    "            for j in range(image.shape[1]):\r\n",
    "                image2[i+2,j+2] = image[i,j]\r\n",
    "            x.append(image2)\r\n",
    "            \r\n",
    "        finall = np.array(x)\r\n",
    "        \r\n",
    "    return finall\r\n",
    "\r\n",
    "def to_RGB(image):\r\n",
    "    shape = image.shape\r\n",
    "    dim = np.zeros(shape)\r\n",
    "    rr = np.stack((image,dim,dim),axis=2)\r\n",
    "    return rr"
   ]
  },
  {
   "cell_type": "code",
   "execution_count": 90,
   "metadata": {
    "id": "ZRmKPIhkekyQ"
   },
   "outputs": [],
   "source": [
    "x=[]\r\n",
    "for image in X:\r\n",
    "    x.append(cv2.resize(image,(32,32)))\r\n",
    "train = np.array(x)\r\n",
    "\r\n",
    "x=[]\r\n",
    "for image in train:\r\n",
    "    rr = to_RGB(image)\r\n",
    "    x.append(rr)\r\n",
    "train = np.array(x)\r\n",
    "\r\n",
    "data = train/255.0"
   ]
  },
  {
   "cell_type": "markdown",
   "metadata": {
    "id": "Ok-nm5TzSGmA"
   },
   "source": [
    "Creating input data for Inception V3, since it requires a minimum size of 75x75x3"
   ]
  },
  {
   "cell_type": "code",
   "execution_count": 91,
   "metadata": {
    "id": "za3bflF_SC74"
   },
   "outputs": [],
   "source": [
    "x=[]\r\n",
    "for image in X:\r\n",
    "    x.append(cv2.resize(image,(75,75)))\r\n",
    "train_inception = np.array(x)\r\n",
    "\r\n",
    "x=[]\r\n",
    "for image in train_inception:\r\n",
    "    rr = to_RGB(image)\r\n",
    "    x.append(rr)\r\n",
    "train_inception = np.array(x)\r\n",
    "\r\n",
    "data_inception = train_inception/255.0"
   ]
  },
  {
   "cell_type": "markdown",
   "metadata": {
    "id": "loxkn35C3xhJ"
   },
   "source": [
    "One Hot Encoding the target variable using Keras in built function **to_categorical**"
   ]
  },
  {
   "cell_type": "code",
   "execution_count": 92,
   "metadata": {
    "id": "wPbMPPdod4zX"
   },
   "outputs": [],
   "source": [
    "target = to_categorical(y)"
   ]
  },
  {
   "cell_type": "markdown",
   "metadata": {
    "id": "VjeYDKsudqBw"
   },
   "source": [
    "# Splitting the Dataset to Train and Test set"
   ]
  },
  {
   "cell_type": "code",
   "execution_count": 93,
   "metadata": {
    "colab": {
     "base_uri": "https://localhost:8080/"
    },
    "id": "5nh0wLN01LQ5",
    "outputId": "d9daae5f-7bea-4563-b511-9fa0030644e8"
   },
   "outputs": [
    {
     "data": {
      "text/plain": [
       "((884, 32, 32, 3), (884, 75, 75, 3), (884, 13))"
      ]
     },
     "execution_count": 93,
     "metadata": {},
     "output_type": "execute_result"
    }
   ],
   "source": [
    "data.shape,data_inception.shape,target.shape"
   ]
  },
  {
   "cell_type": "code",
   "execution_count": 94,
   "metadata": {
    "id": "HMLcWQyC1JTk"
   },
   "outputs": [],
   "source": [
    "x_train = data[204:]\r\n",
    "x_test = data[:204]\r\n",
    "y_train = target[204:]\r\n",
    "y_test = target[:204]"
   ]
  },
  {
   "cell_type": "code",
   "execution_count": 95,
   "metadata": {
    "id": "HHGrY9sb1-2B"
   },
   "outputs": [],
   "source": [
    "x_train_inception = data_inception[204:]\r\n",
    "x_test_inception = data_inception[:204]\r\n",
    "y_train_inception = target[204:]\r\n",
    "y_test_inception = target[:204]"
   ]
  },
  {
   "cell_type": "markdown",
   "metadata": {
    "id": "XxSHFFSMeMeJ"
   },
   "source": [
    "Checking the Shapes of Train and validation sets"
   ]
  },
  {
   "cell_type": "code",
   "execution_count": 96,
   "metadata": {
    "colab": {
     "base_uri": "https://localhost:8080/"
    },
    "id": "tlsl5YBte8B_",
    "outputId": "e9423a45-5b5b-4e77-84ee-4506b06ff841"
   },
   "outputs": [
    {
     "data": {
      "text/plain": [
       "((680, 32, 32, 3), (680, 13), (204, 32, 32, 3), (204, 13))"
      ]
     },
     "execution_count": 96,
     "metadata": {},
     "output_type": "execute_result"
    }
   ],
   "source": [
    "x_train.shape, y_train.shape, x_test.shape, y_test.shape"
   ]
  },
  {
   "cell_type": "code",
   "execution_count": 97,
   "metadata": {
    "colab": {
     "base_uri": "https://localhost:8080/"
    },
    "id": "mKD_hybSa-XL",
    "outputId": "8c53e56c-52a3-4a44-80c9-206b00b80116"
   },
   "outputs": [
    {
     "data": {
      "text/plain": [
       "((680, 75, 75, 3), (680, 13), (204, 75, 75, 3), (204, 13))"
      ]
     },
     "execution_count": 97,
     "metadata": {},
     "output_type": "execute_result"
    }
   ],
   "source": [
    "x_train_inception.shape, y_train.shape, x_test_inception.shape, y_test.shape"
   ]
  },
  {
   "cell_type": "markdown",
   "metadata": {
    "id": "z64qLNNTvVFi"
   },
   "source": [
    "Function to plot training and validation accuracy and loss"
   ]
  },
  {
   "cell_type": "code",
   "execution_count": 98,
   "metadata": {
    "id": "J4FFHiYjvT14"
   },
   "outputs": [],
   "source": [
    "def plot(history):\r\n",
    "  accuracy = history.history['acc']\r\n",
    "  val_accuracy = history.history['val_acc']\r\n",
    "  loss = history.history['loss']\r\n",
    "  val_loss = history.history['val_loss']\r\n",
    "\r\n",
    "  epochs = len(accuracy)\r\n",
    "\r\n",
    "  plt.plot(range(epochs), accuracy, 'b', label='Training accuracy')\r\n",
    "  plt.plot(range(epochs), val_accuracy, 'r', label='Validation accuracy')\r\n",
    "  plt.title('Training and validation accuracy')\r\n",
    "  plt.legend()\r\n",
    "\r\n",
    "  plt.figure()\r\n",
    "\r\n",
    "  plt.plot(range(epochs), loss, 'b', label='Training Loss')\r\n",
    "  plt.plot(range(epochs), val_loss, 'r', label='Validation Loss')\r\n",
    "  plt.title('Training and validation loss')\r\n",
    "  plt.legend()\r\n",
    "\r\n",
    "  plt.show()"
   ]
  },
  {
   "cell_type": "markdown",
   "metadata": {
    "id": "KUWn8YU7oy7t"
   },
   "source": [
    "## VGG16"
   ]
  },
  {
   "cell_type": "code",
   "execution_count": 99,
   "metadata": {
    "colab": {
     "base_uri": "https://localhost:8080/"
    },
    "id": "hh0EeJWcf33c",
    "outputId": "26b1170e-17fd-45f5-afcb-b273838e917e"
   },
   "outputs": [
    {
     "name": "stdout",
     "output_type": "stream",
     "text": [
      "Model: \"sequential_7\"\n",
      "_________________________________________________________________\n",
      "Layer (type)                 Output Shape              Param #   \n",
      "=================================================================\n",
      "vgg16 (Model)                (None, 1, 1, 512)         14714688  \n",
      "_________________________________________________________________\n",
      "flatten_6 (Flatten)          (None, 512)               0         \n",
      "_________________________________________________________________\n",
      "dense_18 (Dense)             (None, 256)               131328    \n",
      "_________________________________________________________________\n",
      "dense_19 (Dense)             (None, 13)                3341      \n",
      "=================================================================\n",
      "Total params: 14,849,357\n",
      "Trainable params: 134,669\n",
      "Non-trainable params: 14,714,688\n",
      "_________________________________________________________________\n"
     ]
    }
   ],
   "source": [
    "base_model_vgg16 = VGG16(weights='imagenet',include_top=False,input_shape=(32, 32, 3))\r\n",
    "\r\n",
    "# Freezing Layers\r\n",
    "for layer in base_model_vgg16.layers:\r\n",
    "    layer.trainable=False\r\n",
    "\r\n",
    "# Building Model\r\n",
    "\r\n",
    "model = Sequential()\r\n",
    "model.add(base_model_vgg16)\r\n",
    "model.add(Flatten())\r\n",
    "model.add(Dense(256, activation='relu'))\r\n",
    "model.add(Dense(13, activation='sigmoid'))\r\n",
    "\r\n",
    "model.summary()"
   ]
  },
  {
   "cell_type": "code",
   "execution_count": 100,
   "metadata": {},
   "outputs": [
    {
     "data": {
      "text/plain": [
       "4"
      ]
     },
     "execution_count": 100,
     "metadata": {},
     "output_type": "execute_result"
    }
   ],
   "source": [
    "len(model.layers)"
   ]
  },
  {
   "cell_type": "code",
   "execution_count": 101,
   "metadata": {
    "id": "Gihs_rYKgjpB"
   },
   "outputs": [],
   "source": [
    "model.compile(loss='categorical_crossentropy',optimizer='adam',metrics=['acc'])"
   ]
  },
  {
   "cell_type": "code",
   "execution_count": 102,
   "metadata": {
    "colab": {
     "base_uri": "https://localhost:8080/"
    },
    "id": "UDjX7H4Hgysi",
    "outputId": "213fedf7-4b13-4219-e0d0-4279a046efe7"
   },
   "outputs": [
    {
     "name": "stdout",
     "output_type": "stream",
     "text": [
      "Train on 544 samples, validate on 136 samples\n",
      "Epoch 1/100\n",
      "544/544 [==============================] - 14s 26ms/sample - loss: 2.5919 - acc: 0.0551 - val_loss: 2.5429 - val_acc: 0.0809\n",
      "Epoch 2/100\n",
      "544/544 [==============================] - 14s 25ms/sample - loss: 2.5399 - acc: 0.0901 - val_loss: 2.5148 - val_acc: 0.2794\n",
      "Epoch 3/100\n",
      "544/544 [==============================] - 13s 25ms/sample - loss: 2.5037 - acc: 0.1654 - val_loss: 2.4624 - val_acc: 0.1691\n",
      "Epoch 4/100\n",
      "544/544 [==============================] - 14s 25ms/sample - loss: 2.4525 - acc: 0.1691 - val_loss: 2.3967 - val_acc: 0.2500\n",
      "Epoch 5/100\n",
      "544/544 [==============================] - 14s 25ms/sample - loss: 2.3775 - acc: 0.2279 - val_loss: 2.3152 - val_acc: 0.2647\n",
      "Epoch 6/100\n",
      "544/544 [==============================] - 14s 25ms/sample - loss: 2.3207 - acc: 0.2132 - val_loss: 2.2518 - val_acc: 0.3162\n",
      "Epoch 7/100\n",
      "544/544 [==============================] - 14s 25ms/sample - loss: 2.2172 - acc: 0.2960 - val_loss: 2.1739 - val_acc: 0.2941\n",
      "Epoch 8/100\n",
      "544/544 [==============================] - 14s 25ms/sample - loss: 2.1292 - acc: 0.3180 - val_loss: 2.0910 - val_acc: 0.3676\n",
      "Epoch 9/100\n",
      "544/544 [==============================] - 14s 25ms/sample - loss: 2.0908 - acc: 0.3125 - val_loss: 2.0157 - val_acc: 0.3750\n",
      "Epoch 10/100\n",
      "544/544 [==============================] - 14s 25ms/sample - loss: 2.0069 - acc: 0.3511 - val_loss: 2.0363 - val_acc: 0.3456\n",
      "Epoch 11/100\n",
      "544/544 [==============================] - 14s 25ms/sample - loss: 1.9844 - acc: 0.3511 - val_loss: 1.9799 - val_acc: 0.3676\n",
      "Epoch 12/100\n",
      "544/544 [==============================] - 14s 25ms/sample - loss: 1.9195 - acc: 0.3658 - val_loss: 1.9343 - val_acc: 0.3897\n",
      "Epoch 13/100\n",
      "544/544 [==============================] - 14s 25ms/sample - loss: 1.8946 - acc: 0.3842 - val_loss: 1.8363 - val_acc: 0.4044\n",
      "Epoch 14/100\n",
      "544/544 [==============================] - 14s 25ms/sample - loss: 1.8421 - acc: 0.4154 - val_loss: 1.8112 - val_acc: 0.4118\n",
      "Epoch 15/100\n",
      "544/544 [==============================] - 14s 25ms/sample - loss: 1.8033 - acc: 0.4136 - val_loss: 1.8203 - val_acc: 0.3676\n",
      "Epoch 16/100\n",
      "544/544 [==============================] - 14s 25ms/sample - loss: 1.7778 - acc: 0.4007 - val_loss: 1.7839 - val_acc: 0.3897\n",
      "Epoch 17/100\n",
      "544/544 [==============================] - 14s 25ms/sample - loss: 1.7427 - acc: 0.4301 - val_loss: 1.7925 - val_acc: 0.3897\n",
      "Epoch 18/100\n",
      "544/544 [==============================] - 14s 25ms/sample - loss: 1.7331 - acc: 0.4430 - val_loss: 1.7325 - val_acc: 0.4632\n",
      "Epoch 19/100\n",
      "544/544 [==============================] - 14s 25ms/sample - loss: 1.7157 - acc: 0.4228 - val_loss: 1.6869 - val_acc: 0.4265\n",
      "Epoch 20/100\n",
      "544/544 [==============================] - 14s 25ms/sample - loss: 1.6742 - acc: 0.4485 - val_loss: 1.7015 - val_acc: 0.4191\n",
      "Epoch 21/100\n",
      "544/544 [==============================] - 14s 25ms/sample - loss: 1.6431 - acc: 0.4577 - val_loss: 1.6697 - val_acc: 0.3971\n",
      "Epoch 22/100\n",
      "544/544 [==============================] - 14s 25ms/sample - loss: 1.6591 - acc: 0.4449 - val_loss: 1.6608 - val_acc: 0.3824\n",
      "Epoch 23/100\n",
      "544/544 [==============================] - 13s 25ms/sample - loss: 1.6041 - acc: 0.4596 - val_loss: 1.6627 - val_acc: 0.3897\n",
      "Epoch 24/100\n",
      "544/544 [==============================] - 14s 25ms/sample - loss: 1.6293 - acc: 0.4301 - val_loss: 1.6653 - val_acc: 0.4118\n",
      "Epoch 25/100\n",
      "544/544 [==============================] - 14s 25ms/sample - loss: 1.5798 - acc: 0.4706 - val_loss: 1.6295 - val_acc: 0.4118\n",
      "Epoch 26/100\n",
      "544/544 [==============================] - 13s 25ms/sample - loss: 1.5851 - acc: 0.4357 - val_loss: 1.5802 - val_acc: 0.4118\n",
      "Epoch 27/100\n",
      "544/544 [==============================] - 14s 25ms/sample - loss: 1.5528 - acc: 0.4688 - val_loss: 1.6509 - val_acc: 0.3824\n",
      "Epoch 28/100\n",
      "544/544 [==============================] - 14s 25ms/sample - loss: 1.5209 - acc: 0.4614 - val_loss: 1.5952 - val_acc: 0.3971\n",
      "Epoch 29/100\n",
      "544/544 [==============================] - 13s 25ms/sample - loss: 1.5012 - acc: 0.4835 - val_loss: 1.5922 - val_acc: 0.4191\n",
      "Epoch 30/100\n",
      "544/544 [==============================] - 14s 25ms/sample - loss: 1.4922 - acc: 0.4724 - val_loss: 1.6365 - val_acc: 0.4191\n",
      "Epoch 31/100\n",
      "544/544 [==============================] - 14s 25ms/sample - loss: 1.4975 - acc: 0.4779 - val_loss: 1.5819 - val_acc: 0.3971\n",
      "Epoch 32/100\n",
      "544/544 [==============================] - 14s 25ms/sample - loss: 1.4693 - acc: 0.4945 - val_loss: 1.5514 - val_acc: 0.4559\n",
      "Epoch 33/100\n",
      "544/544 [==============================] - 14s 25ms/sample - loss: 1.4716 - acc: 0.4908 - val_loss: 1.5970 - val_acc: 0.4338\n",
      "Epoch 34/100\n",
      "544/544 [==============================] - 14s 25ms/sample - loss: 1.4478 - acc: 0.5037 - val_loss: 1.5385 - val_acc: 0.4412\n",
      "Epoch 35/100\n",
      "544/544 [==============================] - 14s 25ms/sample - loss: 1.4289 - acc: 0.4982 - val_loss: 1.5238 - val_acc: 0.4559\n",
      "Epoch 36/100\n",
      "544/544 [==============================] - 14s 25ms/sample - loss: 1.4204 - acc: 0.5000 - val_loss: 1.5363 - val_acc: 0.4412\n",
      "Epoch 37/100\n",
      "544/544 [==============================] - 14s 25ms/sample - loss: 1.4186 - acc: 0.5129 - val_loss: 1.4800 - val_acc: 0.4338\n",
      "Epoch 38/100\n",
      "544/544 [==============================] - 14s 25ms/sample - loss: 1.3952 - acc: 0.5276 - val_loss: 1.4637 - val_acc: 0.4926\n",
      "Epoch 39/100\n",
      "544/544 [==============================] - 14s 25ms/sample - loss: 1.3871 - acc: 0.4908 - val_loss: 1.4712 - val_acc: 0.4485\n",
      "Epoch 40/100\n",
      "544/544 [==============================] - 14s 25ms/sample - loss: 1.3740 - acc: 0.5202 - val_loss: 1.4739 - val_acc: 0.4632\n",
      "Epoch 41/100\n",
      "544/544 [==============================] - 14s 25ms/sample - loss: 1.3616 - acc: 0.5368 - val_loss: 1.4824 - val_acc: 0.4632\n",
      "Epoch 42/100\n",
      "544/544 [==============================] - 14s 25ms/sample - loss: 1.3584 - acc: 0.5239 - val_loss: 1.4727 - val_acc: 0.4412\n",
      "Epoch 43/100\n",
      "544/544 [==============================] - 14s 25ms/sample - loss: 1.3533 - acc: 0.5257 - val_loss: 1.4954 - val_acc: 0.4412\n",
      "Epoch 44/100\n",
      "544/544 [==============================] - 14s 25ms/sample - loss: 1.3335 - acc: 0.5368 - val_loss: 1.4725 - val_acc: 0.4265\n",
      "Epoch 45/100\n",
      "544/544 [==============================] - 14s 25ms/sample - loss: 1.3715 - acc: 0.5221 - val_loss: 1.4872 - val_acc: 0.4559\n",
      "Epoch 46/100\n",
      "544/544 [==============================] - 14s 25ms/sample - loss: 1.3595 - acc: 0.5312 - val_loss: 1.4447 - val_acc: 0.4853\n",
      "Epoch 47/100\n",
      "544/544 [==============================] - 14s 25ms/sample - loss: 1.3258 - acc: 0.5276 - val_loss: 1.4226 - val_acc: 0.4485\n",
      "Epoch 48/100\n",
      "544/544 [==============================] - 14s 25ms/sample - loss: 1.2944 - acc: 0.5460 - val_loss: 1.4385 - val_acc: 0.4706\n",
      "Epoch 49/100\n",
      "544/544 [==============================] - 14s 25ms/sample - loss: 1.2755 - acc: 0.5515 - val_loss: 1.4307 - val_acc: 0.5000\n",
      "Epoch 50/100\n",
      "544/544 [==============================] - 14s 25ms/sample - loss: 1.2996 - acc: 0.5165 - val_loss: 1.4423 - val_acc: 0.4559\n",
      "Epoch 51/100\n",
      "544/544 [==============================] - 14s 25ms/sample - loss: 1.2741 - acc: 0.5478 - val_loss: 1.4459 - val_acc: 0.4559\n",
      "Epoch 52/100\n",
      "544/544 [==============================] - 14s 25ms/sample - loss: 1.2521 - acc: 0.5515 - val_loss: 1.5283 - val_acc: 0.4338\n",
      "Epoch 53/100\n",
      "544/544 [==============================] - 14s 25ms/sample - loss: 1.2575 - acc: 0.5460 - val_loss: 1.4693 - val_acc: 0.4926\n",
      "Epoch 54/100\n",
      "544/544 [==============================] - 13s 25ms/sample - loss: 1.2776 - acc: 0.5441 - val_loss: 1.4372 - val_acc: 0.4485\n",
      "Epoch 55/100\n",
      "544/544 [==============================] - 14s 25ms/sample - loss: 1.2464 - acc: 0.5570 - val_loss: 1.4007 - val_acc: 0.5147\n",
      "Epoch 56/100\n",
      "544/544 [==============================] - 14s 25ms/sample - loss: 1.2429 - acc: 0.5643 - val_loss: 1.4205 - val_acc: 0.4706\n",
      "Epoch 57/100\n",
      "544/544 [==============================] - 14s 25ms/sample - loss: 1.2086 - acc: 0.5754 - val_loss: 1.4088 - val_acc: 0.4853\n",
      "Epoch 58/100\n",
      "544/544 [==============================] - 14s 25ms/sample - loss: 1.2118 - acc: 0.5588 - val_loss: 1.3903 - val_acc: 0.5074\n",
      "Epoch 59/100\n",
      "544/544 [==============================] - 14s 25ms/sample - loss: 1.1984 - acc: 0.5717 - val_loss: 1.3967 - val_acc: 0.4559\n",
      "Epoch 60/100\n",
      "544/544 [==============================] - 14s 25ms/sample - loss: 1.2044 - acc: 0.5754 - val_loss: 1.3917 - val_acc: 0.4559\n",
      "Epoch 61/100\n",
      "544/544 [==============================] - 14s 25ms/sample - loss: 1.1976 - acc: 0.5625 - val_loss: 1.4147 - val_acc: 0.4632\n",
      "Epoch 62/100\n",
      "544/544 [==============================] - 13s 25ms/sample - loss: 1.1917 - acc: 0.5827 - val_loss: 1.3708 - val_acc: 0.4559\n",
      "Epoch 63/100\n",
      "544/544 [==============================] - 14s 25ms/sample - loss: 1.2112 - acc: 0.5717 - val_loss: 1.4388 - val_acc: 0.4926\n",
      "Epoch 64/100\n",
      "544/544 [==============================] - 13s 25ms/sample - loss: 1.2006 - acc: 0.5809 - val_loss: 1.3785 - val_acc: 0.4779\n",
      "Epoch 65/100\n",
      "544/544 [==============================] - 14s 25ms/sample - loss: 1.1646 - acc: 0.5772 - val_loss: 1.3934 - val_acc: 0.4853\n",
      "Epoch 66/100\n",
      "544/544 [==============================] - 14s 26ms/sample - loss: 1.1464 - acc: 0.5956 - val_loss: 1.3900 - val_acc: 0.4706\n",
      "Epoch 67/100\n",
      "544/544 [==============================] - 14s 25ms/sample - loss: 1.1527 - acc: 0.5919 - val_loss: 1.3632 - val_acc: 0.5147\n",
      "Epoch 68/100\n",
      "544/544 [==============================] - 13s 25ms/sample - loss: 1.1612 - acc: 0.5809 - val_loss: 1.4148 - val_acc: 0.4706\n",
      "Epoch 69/100\n",
      "544/544 [==============================] - 14s 25ms/sample - loss: 1.1402 - acc: 0.5956 - val_loss: 1.3536 - val_acc: 0.4926\n",
      "Epoch 70/100\n",
      "544/544 [==============================] - 14s 25ms/sample - loss: 1.1499 - acc: 0.5882 - val_loss: 1.3979 - val_acc: 0.4632\n",
      "Epoch 71/100\n",
      "544/544 [==============================] - 14s 25ms/sample - loss: 1.1522 - acc: 0.5901 - val_loss: 1.3975 - val_acc: 0.4779\n",
      "Epoch 72/100\n",
      "544/544 [==============================] - 14s 25ms/sample - loss: 1.1126 - acc: 0.5993 - val_loss: 1.3253 - val_acc: 0.4706\n",
      "Epoch 73/100\n",
      "544/544 [==============================] - 14s 25ms/sample - loss: 1.1086 - acc: 0.5754 - val_loss: 1.3866 - val_acc: 0.4706\n",
      "Epoch 74/100\n",
      "544/544 [==============================] - 14s 25ms/sample - loss: 1.0908 - acc: 0.6176 - val_loss: 1.3837 - val_acc: 0.4706\n",
      "Epoch 75/100\n",
      "544/544 [==============================] - 14s 25ms/sample - loss: 1.1234 - acc: 0.5827 - val_loss: 1.3389 - val_acc: 0.4706\n",
      "Epoch 76/100\n",
      "544/544 [==============================] - 14s 25ms/sample - loss: 1.0891 - acc: 0.6140 - val_loss: 1.3339 - val_acc: 0.5074\n",
      "Epoch 77/100\n",
      "544/544 [==============================] - 13s 25ms/sample - loss: 1.0955 - acc: 0.6121 - val_loss: 1.3992 - val_acc: 0.4779\n",
      "Epoch 78/100\n",
      "544/544 [==============================] - 14s 25ms/sample - loss: 1.0932 - acc: 0.6213 - val_loss: 1.3501 - val_acc: 0.5294\n",
      "Epoch 79/100\n",
      "544/544 [==============================] - 14s 25ms/sample - loss: 1.0757 - acc: 0.5938 - val_loss: 1.3152 - val_acc: 0.5515\n",
      "Epoch 80/100\n",
      "544/544 [==============================] - 14s 25ms/sample - loss: 1.0587 - acc: 0.6324 - val_loss: 1.3662 - val_acc: 0.5000\n",
      "Epoch 81/100\n",
      "544/544 [==============================] - 14s 25ms/sample - loss: 1.0647 - acc: 0.6029 - val_loss: 1.3216 - val_acc: 0.4706\n",
      "Epoch 82/100\n",
      "544/544 [==============================] - 14s 25ms/sample - loss: 1.0620 - acc: 0.6176 - val_loss: 1.3336 - val_acc: 0.5074\n",
      "Epoch 83/100\n",
      "544/544 [==============================] - 14s 25ms/sample - loss: 1.0763 - acc: 0.6048 - val_loss: 1.3853 - val_acc: 0.5000\n",
      "Epoch 84/100\n",
      "544/544 [==============================] - 14s 25ms/sample - loss: 1.0726 - acc: 0.6066 - val_loss: 1.3656 - val_acc: 0.5074\n",
      "Epoch 85/100\n",
      "544/544 [==============================] - 14s 25ms/sample - loss: 1.0406 - acc: 0.6268 - val_loss: 1.3286 - val_acc: 0.4412\n",
      "Epoch 86/100\n",
      "544/544 [==============================] - 14s 25ms/sample - loss: 1.0457 - acc: 0.6268 - val_loss: 1.3581 - val_acc: 0.4853\n",
      "Epoch 87/100\n",
      "544/544 [==============================] - 14s 25ms/sample - loss: 1.0061 - acc: 0.6581 - val_loss: 1.3035 - val_acc: 0.5147\n",
      "Epoch 88/100\n",
      "544/544 [==============================] - 14s 25ms/sample - loss: 1.0165 - acc: 0.6507 - val_loss: 1.3291 - val_acc: 0.5147\n",
      "Epoch 89/100\n",
      "544/544 [==============================] - 14s 25ms/sample - loss: 1.0331 - acc: 0.6360 - val_loss: 1.3450 - val_acc: 0.4926\n",
      "Epoch 90/100\n",
      "544/544 [==============================] - 14s 25ms/sample - loss: 0.9989 - acc: 0.6507 - val_loss: 1.2945 - val_acc: 0.4706\n",
      "Epoch 91/100\n",
      "544/544 [==============================] - 14s 25ms/sample - loss: 1.0059 - acc: 0.6342 - val_loss: 1.2891 - val_acc: 0.5221\n",
      "Epoch 92/100\n",
      "544/544 [==============================] - 14s 25ms/sample - loss: 0.9973 - acc: 0.6526 - val_loss: 1.3224 - val_acc: 0.4779\n",
      "Epoch 93/100\n",
      "544/544 [==============================] - 14s 25ms/sample - loss: 0.9760 - acc: 0.6562 - val_loss: 1.2958 - val_acc: 0.5074\n",
      "Epoch 94/100\n",
      "544/544 [==============================] - 14s 25ms/sample - loss: 0.9892 - acc: 0.6379 - val_loss: 1.2634 - val_acc: 0.5000\n",
      "Epoch 95/100\n",
      "544/544 [==============================] - 14s 25ms/sample - loss: 0.9836 - acc: 0.6250 - val_loss: 1.2849 - val_acc: 0.4926\n",
      "Epoch 96/100\n",
      "544/544 [==============================] - 14s 25ms/sample - loss: 0.9979 - acc: 0.6489 - val_loss: 1.3864 - val_acc: 0.4706\n",
      "Epoch 97/100\n",
      "544/544 [==============================] - 14s 25ms/sample - loss: 1.0040 - acc: 0.6507 - val_loss: 1.3292 - val_acc: 0.4559\n",
      "Epoch 98/100\n",
      "544/544 [==============================] - 14s 25ms/sample - loss: 0.9824 - acc: 0.6268 - val_loss: 1.3461 - val_acc: 0.4779\n",
      "Epoch 99/100\n",
      "544/544 [==============================] - 14s 25ms/sample - loss: 0.9756 - acc: 0.6507 - val_loss: 1.2582 - val_acc: 0.5294\n",
      "Epoch 100/100\n",
      "544/544 [==============================] - 14s 25ms/sample - loss: 0.9672 - acc: 0.6654 - val_loss: 1.2878 - val_acc: 0.4559\n",
      "Time taken to train the model: 1362.11 seconds\n",
      "==========================================\n",
      "\n"
     ]
    }
   ],
   "source": [
    "import time\n",
    "t0=time.time()\n",
    "vgg16_history  = model.fit(x_train,y_train,epochs=100,validation_split = 0.2,batch_size=16)\n",
    "print(\"Time taken to train the model:\", round(time.time()-t0, 2), \"seconds\")\n",
    "print(\"==========================================\")\n",
    "print()"
   ]
  },
  {
   "cell_type": "code",
   "execution_count": 103,
   "metadata": {
    "colab": {
     "base_uri": "https://localhost:8080/"
    },
    "id": "NDz-4Agu7X_f",
    "outputId": "761fdcc5-9543-430d-8b86-337fece67816"
   },
   "outputs": [
    {
     "name": "stdout",
     "output_type": "stream",
     "text": [
      "204/1 [========================================================================================================================================================================================================================================================================================================================================================================================================================================================================================================================================================================================================================================================================================================================================================================================================================================================================================================================================================================================================================================================================================================================================================================================================================================================================================================================================================================================================================================================================================================================================================================================================================================================================================================================================================================================================================================================================================================================================================================================================================================================================================================================================================================================================================================================================================================================================================================================================================================================================================================================================================================================================================================================================================================================================================================================================================================================================================================================================================================================================================================================================================================================================================================================================================================================================================================================================================================================================================================================================================================================================================================================================================================================================================================================================================================================================================================================================================================================================================================================================================================================================================================================================================================================================================================================================================================================================================================================================================================================================================================================================================================================================================================================================================================================================================================================================================================================================================================================================================================================================================================================================================================================================================================================================================================================================================================================================================================================================================================================================================================================================================================================================================================================================================================================================================================================================================================================================================================================================================================================================================================================================================================================================================================================================================================================================================================================================================================] - 4s 21ms/sample - loss: 1.4117 - acc: 0.4706\n",
      "Time taken to predict test cases: 4.4 seconds\n",
      "==========================================\n",
      "\n"
     ]
    }
   ],
   "source": [
    "t1=time.time()\n",
    "model.evaluate(x_test,y_test)\n",
    "print(\"Time taken to predict test cases:\", round(time.time()-t1, 2), \"seconds\")\n",
    "print(\"==========================================\")\n",
    "print()\n",
    "#model.evaluate(x_test,y_test)"
   ]
  },
  {
   "cell_type": "markdown",
   "metadata": {
    "id": "0TR4GMCk7bfb"
   },
   "source": [
    "The Test Set __Accuracy__ is __47.05%__"
   ]
  },
  {
   "cell_type": "code",
   "execution_count": 104,
   "metadata": {
    "colab": {
     "base_uri": "https://localhost:8080/",
     "height": 551
    },
    "id": "M6oKzr4TvRgF",
    "outputId": "0ee1db7c-706d-4c45-bd69-88c53193dd04"
   },
   "outputs": [
    {
     "data": {
      "image/png": "[encoded data removed]",
      "text/plain": [
       "<Figure size 432x288 with 1 Axes>"
      ]
     },
     "metadata": {},
     "output_type": "display_data"
    },
    {
     "data": {
      "image/png": "[encoded data removed]",
      "text/plain": [
       "<Figure size 432x288 with 1 Axes>"
      ]
     },
     "metadata": {},
     "output_type": "display_data"
    }
   ],
   "source": [
    "plot(vgg16_history)"
   ]
  },
  {
   "cell_type": "markdown",
   "metadata": {
    "id": "6w_tjhSpqVyk"
   },
   "source": [
    "### VGG19"
   ]
  },
  {
   "cell_type": "markdown",
   "metadata": {
    "id": "5p1fmkAa4Xs4"
   },
   "source": [
    "We have changed the last fuly connected layer to have 10 neurons instead of the 4096 present in the architecture in order to classify images into ten different classes."
   ]
  },
  {
   "cell_type": "code",
   "execution_count": 105,
   "metadata": {
    "colab": {
     "base_uri": "https://localhost:8080/"
    },
    "id": "dQf1euqaqVhB",
    "outputId": "348aa6ff-9632-434e-9137-bb06be871afa"
   },
   "outputs": [
    {
     "name": "stdout",
     "output_type": "stream",
     "text": [
      "Model: \"sequential_8\"\n",
      "_________________________________________________________________\n",
      "Layer (type)                 Output Shape              Param #   \n",
      "=================================================================\n",
      "vgg19 (Model)                (None, 1, 1, 512)         20024384  \n",
      "_________________________________________________________________\n",
      "flatten_7 (Flatten)          (None, 512)               0         \n",
      "_________________________________________________________________\n",
      "dense_20 (Dense)             (None, 256)               131328    \n",
      "_________________________________________________________________\n",
      "dense_21 (Dense)             (None, 13)                3341      \n",
      "=================================================================\n",
      "Total params: 20,159,053\n",
      "Trainable params: 134,669\n",
      "Non-trainable params: 20,024,384\n",
      "_________________________________________________________________\n"
     ]
    }
   ],
   "source": [
    "base_model_vgg19 = VGG19(weights='imagenet',include_top=False,input_shape=(32, 32, 3))\r\n",
    "\r\n",
    "# Freezing Layers\r\n",
    "for layer in base_model_vgg19.layers:\r\n",
    "    layer.trainable=False\r\n",
    "\r\n",
    "# Building Model\r\n",
    "\r\n",
    "model = Sequential()\r\n",
    "model.add(base_model_vgg19)\r\n",
    "model.add(Flatten())\r\n",
    "model.add(Dense(256, activation='relu'))\r\n",
    "model.add(Dense(13, activation='sigmoid'))\r\n",
    "\r\n",
    "model.summary()"
   ]
  },
  {
   "cell_type": "code",
   "execution_count": 132,
   "metadata": {},
   "outputs": [
    {
     "data": {
      "text/plain": [
       "4"
      ]
     },
     "execution_count": 132,
     "metadata": {},
     "output_type": "execute_result"
    }
   ],
   "source": [
    "len(model.layers)"
   ]
  },
  {
   "cell_type": "code",
   "execution_count": 106,
   "metadata": {
    "id": "tuhtIEZaqVIJ"
   },
   "outputs": [],
   "source": [
    "model.compile(loss='categorical_crossentropy',optimizer='adam',metrics=['acc'])"
   ]
  },
  {
   "cell_type": "code",
   "execution_count": 107,
   "metadata": {
    "colab": {
     "base_uri": "https://localhost:8080/"
    },
    "id": "lROd9m3XqVA-",
    "outputId": "35adae45-4ccb-4ef4-b971-d57345f751f6"
   },
   "outputs": [
    {
     "name": "stdout",
     "output_type": "stream",
     "text": [
      "Train on 544 samples, validate on 136 samples\n",
      "Epoch 1/100\n",
      "544/544 [==============================] - 18s 33ms/sample - loss: 2.5839 - acc: 0.0662 - val_loss: 2.5424 - val_acc: 0.1029\n",
      "Epoch 2/100\n",
      "544/544 [==============================] - 17s 32ms/sample - loss: 2.5399 - acc: 0.0882 - val_loss: 2.5093 - val_acc: 0.1029\n",
      "Epoch 3/100\n",
      "544/544 [==============================] - 17s 31ms/sample - loss: 2.4980 - acc: 0.1379 - val_loss: 2.4556 - val_acc: 0.1985\n",
      "Epoch 4/100\n",
      "544/544 [==============================] - 17s 31ms/sample - loss: 2.4514 - acc: 0.1654 - val_loss: 2.4026 - val_acc: 0.2647\n",
      "Epoch 5/100\n",
      "544/544 [==============================] - 17s 31ms/sample - loss: 2.3522 - acc: 0.2721 - val_loss: 2.2655 - val_acc: 0.3382\n",
      "Epoch 6/100\n",
      "544/544 [==============================] - 17s 31ms/sample - loss: 2.2609 - acc: 0.2647 - val_loss: 2.2654 - val_acc: 0.2941\n",
      "Epoch 7/100\n",
      "544/544 [==============================] - 17s 31ms/sample - loss: 2.2037 - acc: 0.2574 - val_loss: 2.1772 - val_acc: 0.2426\n",
      "Epoch 8/100\n",
      "544/544 [==============================] - 17s 31ms/sample - loss: 2.1158 - acc: 0.3419 - val_loss: 2.0976 - val_acc: 0.3529\n",
      "Epoch 9/100\n",
      "544/544 [==============================] - 17s 31ms/sample - loss: 2.0667 - acc: 0.3143 - val_loss: 2.0443 - val_acc: 0.3676\n",
      "Epoch 10/100\n",
      "544/544 [==============================] - 17s 31ms/sample - loss: 1.9903 - acc: 0.3309 - val_loss: 1.9361 - val_acc: 0.3897\n",
      "Epoch 11/100\n",
      "544/544 [==============================] - 17s 31ms/sample - loss: 1.8894 - acc: 0.3879 - val_loss: 1.8986 - val_acc: 0.3824\n",
      "Epoch 12/100\n",
      "544/544 [==============================] - 17s 31ms/sample - loss: 1.8561 - acc: 0.3860 - val_loss: 1.9519 - val_acc: 0.3529\n",
      "Epoch 13/100\n",
      "544/544 [==============================] - 17s 31ms/sample - loss: 1.8427 - acc: 0.3879 - val_loss: 1.9389 - val_acc: 0.3971\n",
      "Epoch 14/100\n",
      "544/544 [==============================] - 17s 31ms/sample - loss: 1.7783 - acc: 0.4081 - val_loss: 1.8054 - val_acc: 0.3676\n",
      "Epoch 15/100\n",
      "544/544 [==============================] - 17s 31ms/sample - loss: 1.7493 - acc: 0.4062 - val_loss: 1.8240 - val_acc: 0.3529\n",
      "Epoch 16/100\n",
      "544/544 [==============================] - 17s 31ms/sample - loss: 1.7211 - acc: 0.4136 - val_loss: 1.7680 - val_acc: 0.4191\n",
      "Epoch 17/100\n",
      "544/544 [==============================] - 17s 31ms/sample - loss: 1.6963 - acc: 0.4265 - val_loss: 1.7623 - val_acc: 0.4118\n",
      "Epoch 18/100\n",
      "544/544 [==============================] - 17s 31ms/sample - loss: 1.6621 - acc: 0.4265 - val_loss: 1.7273 - val_acc: 0.4265\n",
      "Epoch 19/100\n",
      "544/544 [==============================] - 17s 31ms/sample - loss: 1.6279 - acc: 0.4651 - val_loss: 1.6614 - val_acc: 0.4265\n",
      "Epoch 20/100\n",
      "544/544 [==============================] - 17s 31ms/sample - loss: 1.5981 - acc: 0.4559 - val_loss: 1.7532 - val_acc: 0.3897\n",
      "Epoch 21/100\n",
      "544/544 [==============================] - 17s 31ms/sample - loss: 1.5918 - acc: 0.4724 - val_loss: 1.6783 - val_acc: 0.4191\n",
      "Epoch 22/100\n",
      "544/544 [==============================] - 17s 31ms/sample - loss: 1.5820 - acc: 0.4669 - val_loss: 1.7022 - val_acc: 0.4632\n",
      "Epoch 23/100\n",
      "544/544 [==============================] - 17s 31ms/sample - loss: 1.5501 - acc: 0.4816 - val_loss: 1.6719 - val_acc: 0.4338\n",
      "Epoch 24/100\n",
      "544/544 [==============================] - 17s 31ms/sample - loss: 1.5430 - acc: 0.4688 - val_loss: 1.6124 - val_acc: 0.4338\n",
      "Epoch 25/100\n",
      "544/544 [==============================] - 17s 31ms/sample - loss: 1.4936 - acc: 0.4963 - val_loss: 1.6457 - val_acc: 0.4191\n",
      "Epoch 26/100\n",
      "544/544 [==============================] - 17s 31ms/sample - loss: 1.5158 - acc: 0.4743 - val_loss: 1.7025 - val_acc: 0.3971\n",
      "Epoch 27/100\n",
      "544/544 [==============================] - 17s 31ms/sample - loss: 1.4992 - acc: 0.4908 - val_loss: 1.5940 - val_acc: 0.3971\n",
      "Epoch 28/100\n",
      "544/544 [==============================] - 17s 31ms/sample - loss: 1.4613 - acc: 0.5055 - val_loss: 1.6291 - val_acc: 0.4044\n",
      "Epoch 29/100\n",
      "544/544 [==============================] - 17s 31ms/sample - loss: 1.4588 - acc: 0.4871 - val_loss: 1.5826 - val_acc: 0.4338\n",
      "Epoch 30/100\n",
      "544/544 [==============================] - 17s 31ms/sample - loss: 1.4503 - acc: 0.5074 - val_loss: 1.6132 - val_acc: 0.4044\n",
      "Epoch 31/100\n",
      "544/544 [==============================] - 17s 31ms/sample - loss: 1.4112 - acc: 0.5000 - val_loss: 1.6187 - val_acc: 0.3824\n",
      "Epoch 32/100\n",
      "544/544 [==============================] - 17s 31ms/sample - loss: 1.4129 - acc: 0.4963 - val_loss: 1.6779 - val_acc: 0.4118\n",
      "Epoch 33/100\n",
      "544/544 [==============================] - 17s 31ms/sample - loss: 1.4061 - acc: 0.5000 - val_loss: 1.5631 - val_acc: 0.4926\n",
      "Epoch 34/100\n",
      "544/544 [==============================] - 17s 31ms/sample - loss: 1.3733 - acc: 0.5202 - val_loss: 1.5793 - val_acc: 0.4412\n",
      "Epoch 35/100\n",
      "544/544 [==============================] - 17s 31ms/sample - loss: 1.3968 - acc: 0.5037 - val_loss: 1.5741 - val_acc: 0.4559\n",
      "Epoch 36/100\n",
      "544/544 [==============================] - 17s 31ms/sample - loss: 1.3828 - acc: 0.5074 - val_loss: 1.5873 - val_acc: 0.4412\n",
      "Epoch 37/100\n",
      "544/544 [==============================] - 17s 31ms/sample - loss: 1.3544 - acc: 0.5257 - val_loss: 1.5873 - val_acc: 0.4191\n",
      "Epoch 38/100\n",
      "544/544 [==============================] - 17s 31ms/sample - loss: 1.3232 - acc: 0.5496 - val_loss: 1.4993 - val_acc: 0.4265\n",
      "Epoch 39/100\n",
      "544/544 [==============================] - 17s 31ms/sample - loss: 1.3349 - acc: 0.5257 - val_loss: 1.5479 - val_acc: 0.4191\n",
      "Epoch 40/100\n",
      "544/544 [==============================] - 17s 31ms/sample - loss: 1.3372 - acc: 0.5496 - val_loss: 1.5691 - val_acc: 0.4412\n",
      "Epoch 41/100\n",
      "544/544 [==============================] - 17s 31ms/sample - loss: 1.3276 - acc: 0.5386 - val_loss: 1.5258 - val_acc: 0.4559\n",
      "Epoch 42/100\n",
      "544/544 [==============================] - 17s 31ms/sample - loss: 1.3220 - acc: 0.5588 - val_loss: 1.5035 - val_acc: 0.4559\n",
      "Epoch 43/100\n",
      "544/544 [==============================] - 17s 32ms/sample - loss: 1.2999 - acc: 0.5404 - val_loss: 1.6232 - val_acc: 0.4044\n",
      "Epoch 44/100\n",
      "544/544 [==============================] - 17s 31ms/sample - loss: 1.3058 - acc: 0.5460 - val_loss: 1.5628 - val_acc: 0.4118\n",
      "Epoch 45/100\n",
      "544/544 [==============================] - 17s 32ms/sample - loss: 1.2964 - acc: 0.5478 - val_loss: 1.4972 - val_acc: 0.4632\n",
      "Epoch 46/100\n",
      "544/544 [==============================] - 17s 31ms/sample - loss: 1.2964 - acc: 0.5221 - val_loss: 1.5808 - val_acc: 0.4265\n",
      "Epoch 47/100\n",
      "544/544 [==============================] - 17s 31ms/sample - loss: 1.2981 - acc: 0.5349 - val_loss: 1.5954 - val_acc: 0.4044\n",
      "Epoch 48/100\n",
      "544/544 [==============================] - 17s 32ms/sample - loss: 1.2443 - acc: 0.5588 - val_loss: 1.4876 - val_acc: 0.4338\n",
      "Epoch 49/100\n",
      "544/544 [==============================] - 17s 31ms/sample - loss: 1.2185 - acc: 0.5974 - val_loss: 1.4742 - val_acc: 0.4779\n",
      "Epoch 50/100\n",
      "544/544 [==============================] - 17s 32ms/sample - loss: 1.2493 - acc: 0.5460 - val_loss: 1.4883 - val_acc: 0.4706\n",
      "Epoch 51/100\n",
      "544/544 [==============================] - 17s 32ms/sample - loss: 1.2161 - acc: 0.5938 - val_loss: 1.5168 - val_acc: 0.4265\n",
      "Epoch 52/100\n",
      "544/544 [==============================] - 17s 31ms/sample - loss: 1.2132 - acc: 0.5974 - val_loss: 1.5317 - val_acc: 0.4485\n",
      "Epoch 53/100\n",
      "544/544 [==============================] - 17s 31ms/sample - loss: 1.2039 - acc: 0.5680 - val_loss: 1.4668 - val_acc: 0.4485\n",
      "Epoch 54/100\n",
      "544/544 [==============================] - 17s 31ms/sample - loss: 1.2336 - acc: 0.5735 - val_loss: 1.4451 - val_acc: 0.4779\n",
      "Epoch 55/100\n",
      "544/544 [==============================] - 17s 31ms/sample - loss: 1.1849 - acc: 0.5974 - val_loss: 1.6808 - val_acc: 0.4044\n",
      "Epoch 56/100\n",
      "544/544 [==============================] - 17s 31ms/sample - loss: 1.1906 - acc: 0.5882 - val_loss: 1.4761 - val_acc: 0.4779\n",
      "Epoch 57/100\n",
      "544/544 [==============================] - 17s 31ms/sample - loss: 1.1706 - acc: 0.5974 - val_loss: 1.4840 - val_acc: 0.4706\n",
      "Epoch 58/100\n",
      "544/544 [==============================] - 17s 32ms/sample - loss: 1.1751 - acc: 0.5938 - val_loss: 1.4487 - val_acc: 0.4559\n",
      "Epoch 59/100\n",
      "544/544 [==============================] - 17s 31ms/sample - loss: 1.1765 - acc: 0.5956 - val_loss: 1.5811 - val_acc: 0.4485\n",
      "Epoch 60/100\n",
      "544/544 [==============================] - 17s 32ms/sample - loss: 1.2344 - acc: 0.5827 - val_loss: 1.4354 - val_acc: 0.4412\n",
      "Epoch 61/100\n",
      "544/544 [==============================] - 17s 32ms/sample - loss: 1.1853 - acc: 0.6011 - val_loss: 1.4911 - val_acc: 0.4706\n",
      "Epoch 62/100\n",
      "544/544 [==============================] - 17s 32ms/sample - loss: 1.1566 - acc: 0.6103 - val_loss: 1.5055 - val_acc: 0.4338\n",
      "Epoch 63/100\n",
      "544/544 [==============================] - 17s 31ms/sample - loss: 1.1554 - acc: 0.5993 - val_loss: 1.5322 - val_acc: 0.4632\n",
      "Epoch 64/100\n",
      "544/544 [==============================] - 17s 32ms/sample - loss: 1.1571 - acc: 0.5790 - val_loss: 1.5488 - val_acc: 0.4779\n",
      "Epoch 65/100\n",
      "544/544 [==============================] - 17s 31ms/sample - loss: 1.1320 - acc: 0.6029 - val_loss: 1.5199 - val_acc: 0.4265\n",
      "Epoch 66/100\n",
      "544/544 [==============================] - 17s 31ms/sample - loss: 1.1243 - acc: 0.5974 - val_loss: 1.4458 - val_acc: 0.5074\n",
      "Epoch 67/100\n",
      "544/544 [==============================] - 17s 31ms/sample - loss: 1.1344 - acc: 0.6029 - val_loss: 1.4337 - val_acc: 0.4559\n",
      "Epoch 68/100\n",
      "544/544 [==============================] - 17s 31ms/sample - loss: 1.1202 - acc: 0.5956 - val_loss: 1.4466 - val_acc: 0.4853\n",
      "Epoch 69/100\n",
      "544/544 [==============================] - 17s 32ms/sample - loss: 1.1086 - acc: 0.6048 - val_loss: 1.4883 - val_acc: 0.4706\n",
      "Epoch 70/100\n",
      "544/544 [==============================] - 17s 32ms/sample - loss: 1.1026 - acc: 0.6140 - val_loss: 1.4716 - val_acc: 0.4412\n",
      "Epoch 71/100\n",
      "544/544 [==============================] - 17s 32ms/sample - loss: 1.0916 - acc: 0.6103 - val_loss: 1.4985 - val_acc: 0.4779\n",
      "Epoch 72/100\n",
      "544/544 [==============================] - 17s 32ms/sample - loss: 1.1087 - acc: 0.6140 - val_loss: 1.3745 - val_acc: 0.4485\n",
      "Epoch 73/100\n",
      "544/544 [==============================] - 17s 31ms/sample - loss: 1.0928 - acc: 0.6103 - val_loss: 1.5287 - val_acc: 0.4632\n",
      "Epoch 74/100\n",
      "544/544 [==============================] - 17s 32ms/sample - loss: 1.0668 - acc: 0.6507 - val_loss: 1.4010 - val_acc: 0.4853\n",
      "Epoch 75/100\n",
      "544/544 [==============================] - 17s 31ms/sample - loss: 1.0675 - acc: 0.6324 - val_loss: 1.4138 - val_acc: 0.4926\n",
      "Epoch 76/100\n",
      "544/544 [==============================] - 17s 31ms/sample - loss: 1.0571 - acc: 0.6379 - val_loss: 1.4125 - val_acc: 0.4559\n",
      "Epoch 77/100\n",
      "544/544 [==============================] - 17s 32ms/sample - loss: 1.0724 - acc: 0.6250 - val_loss: 1.4564 - val_acc: 0.4412\n",
      "Epoch 78/100\n",
      "544/544 [==============================] - 17s 31ms/sample - loss: 1.0559 - acc: 0.6305 - val_loss: 1.3696 - val_acc: 0.4338\n",
      "Epoch 79/100\n",
      "544/544 [==============================] - 17s 32ms/sample - loss: 1.0599 - acc: 0.6415 - val_loss: 1.4043 - val_acc: 0.4412\n",
      "Epoch 80/100\n",
      "544/544 [==============================] - 17s 31ms/sample - loss: 1.0579 - acc: 0.6342 - val_loss: 1.3921 - val_acc: 0.4779\n",
      "Epoch 81/100\n",
      "544/544 [==============================] - 17s 32ms/sample - loss: 1.0402 - acc: 0.6305 - val_loss: 1.5204 - val_acc: 0.4338\n",
      "Epoch 82/100\n",
      "544/544 [==============================] - 17s 31ms/sample - loss: 1.0510 - acc: 0.6268 - val_loss: 1.4628 - val_acc: 0.5000\n",
      "Epoch 83/100\n",
      "544/544 [==============================] - 17s 32ms/sample - loss: 1.0489 - acc: 0.6232 - val_loss: 1.3992 - val_acc: 0.4853\n",
      "Epoch 84/100\n",
      "544/544 [==============================] - 17s 31ms/sample - loss: 1.0286 - acc: 0.6213 - val_loss: 1.4100 - val_acc: 0.4706\n",
      "Epoch 85/100\n",
      "544/544 [==============================] - 17s 31ms/sample - loss: 1.0065 - acc: 0.6324 - val_loss: 1.4349 - val_acc: 0.4559\n",
      "Epoch 86/100\n",
      "544/544 [==============================] - 17s 32ms/sample - loss: 1.0191 - acc: 0.6471 - val_loss: 1.4832 - val_acc: 0.4118\n",
      "Epoch 87/100\n",
      "544/544 [==============================] - 17s 31ms/sample - loss: 1.0240 - acc: 0.6415 - val_loss: 1.3795 - val_acc: 0.4779\n",
      "Epoch 88/100\n",
      "544/544 [==============================] - 17s 32ms/sample - loss: 1.0075 - acc: 0.6471 - val_loss: 1.4134 - val_acc: 0.4853\n",
      "Epoch 89/100\n",
      "544/544 [==============================] - 17s 32ms/sample - loss: 1.0099 - acc: 0.6415 - val_loss: 1.4533 - val_acc: 0.4191\n",
      "Epoch 90/100\n",
      "544/544 [==============================] - 17s 32ms/sample - loss: 1.0174 - acc: 0.6471 - val_loss: 1.4804 - val_acc: 0.4706\n",
      "Epoch 91/100\n",
      "544/544 [==============================] - 17s 32ms/sample - loss: 1.0047 - acc: 0.6397 - val_loss: 1.4131 - val_acc: 0.4779\n",
      "Epoch 92/100\n",
      "544/544 [==============================] - 17s 32ms/sample - loss: 0.9897 - acc: 0.6544 - val_loss: 1.4404 - val_acc: 0.4779\n",
      "Epoch 93/100\n",
      "544/544 [==============================] - 17s 31ms/sample - loss: 1.0089 - acc: 0.6360 - val_loss: 1.3438 - val_acc: 0.4632\n",
      "Epoch 94/100\n",
      "544/544 [==============================] - 17s 32ms/sample - loss: 0.9616 - acc: 0.6654 - val_loss: 1.4802 - val_acc: 0.4779\n",
      "Epoch 95/100\n",
      "544/544 [==============================] - 17s 32ms/sample - loss: 0.9935 - acc: 0.6471 - val_loss: 1.4308 - val_acc: 0.4926\n",
      "Epoch 96/100\n",
      "544/544 [==============================] - 17s 32ms/sample - loss: 0.9884 - acc: 0.6452 - val_loss: 1.4908 - val_acc: 0.4706\n",
      "Epoch 97/100\n",
      "544/544 [==============================] - 17s 32ms/sample - loss: 0.9540 - acc: 0.6581 - val_loss: 1.3753 - val_acc: 0.4926\n",
      "Epoch 98/100\n",
      "544/544 [==============================] - 17s 31ms/sample - loss: 0.9666 - acc: 0.6636 - val_loss: 1.4380 - val_acc: 0.4632\n",
      "Epoch 99/100\n",
      "544/544 [==============================] - 17s 31ms/sample - loss: 0.9792 - acc: 0.6324 - val_loss: 1.4407 - val_acc: 0.4779\n",
      "Epoch 100/100\n",
      "544/544 [==============================] - 17s 32ms/sample - loss: 0.9414 - acc: 0.6838 - val_loss: 1.4080 - val_acc: 0.4706\n",
      "Time taken to train the model: 1707.07 seconds\n",
      "==========================================\n",
      "\n"
     ]
    }
   ],
   "source": [
    "t0=time.time()\n",
    "vgg19_history  = model.fit(x_train,y_train,epochs=100,validation_split = 0.2,batch_size=16)\n",
    "print(\"Time taken to train the model:\", round(time.time()-t0, 2), \"seconds\")\n",
    "print(\"==========================================\")\n",
    "print()\n"
   ]
  },
  {
   "cell_type": "code",
   "execution_count": 108,
   "metadata": {
    "colab": {
     "base_uri": "https://localhost:8080/"
    },
    "id": "ycBzKd2T7ztb",
    "outputId": "a8dc0556-252c-46fc-de65-565e2176b834"
   },
   "outputs": [
    {
     "name": "stdout",
     "output_type": "stream",
     "text": [
      "204/1 [========================================================================================================================================================================================================================================================================================================================================================================================================================================================================================================================================================================================================================================================================================================================================================================================================================================================================================================================================================================================================================================================================================================================================================================================================================================================================================================================================================================================================================================================================================================================================================================================================================================================================================================================================================================================================================================================================================================================================================================================================================================================================================================================================================================================================================================================================================================================================================================================================================================================================================================================================================================================================================================================================================================================================================================================================================================================================================================================================================================================================================================================================================================================================================================================================================================================================================================================================================================================================================================================================================================================================================================================================================================================================================================================================================================================================================================================================================================================================================================================================================================================================================================================================================================================================================================================================================================================================================================================================================================================================================================================================================================================================================================================================================================================================================================================================================================================================================================================================================================================================================================================================================================================================================================================================================================================================================================================================================================================================================================================================================================================================================================================================================================================================================================================================================================================================================================================================================================================================================================================================================================================================================================================================================================================================================================================================================================================================================================] - 5s 25ms/sample - loss: 1.3014 - acc: 0.5049\n",
      "Time taken to predict test cases: 5.23 seconds\n",
      "==========================================\n",
      "\n"
     ]
    }
   ],
   "source": [
    "t1=time.time()\n",
    "model.evaluate(x_test,y_test)\n",
    "print(\"Time taken to predict test cases:\", round(time.time()-t1, 2), \"seconds\")\n",
    "print(\"==========================================\")\n",
    "print()\n"
   ]
  },
  {
   "cell_type": "markdown",
   "metadata": {
    "id": "u-f99CT572D1"
   },
   "source": [
    "The test set __Accuracy__ is __51.40%__"
   ]
  },
  {
   "cell_type": "code",
   "execution_count": 109,
   "metadata": {
    "colab": {
     "base_uri": "https://localhost:8080/",
     "height": 551
    },
    "id": "XWkp0UVzwDnX",
    "outputId": "05955b9c-6560-442b-9951-bc1d8e35d680"
   },
   "outputs": [
    {
     "data": {
      "image/png": "[encoded data removed]",
      "text/plain": [
       "<Figure size 432x288 with 1 Axes>"
      ]
     },
     "metadata": {},
     "output_type": "display_data"
    },
    {
     "data": {
      "image/png": "[encoded data removed]",
      "text/plain": [
       "<Figure size 432x288 with 1 Axes>"
      ]
     },
     "metadata": {},
     "output_type": "display_data"
    }
   ],
   "source": [
    "plot(vgg19_history)"
   ]
  },
  {
   "cell_type": "markdown",
   "metadata": {
    "id": "ajGrDkCzsYzJ"
   },
   "source": [
    "# DenseNet 121"
   ]
  },
  {
   "cell_type": "code",
   "execution_count": 110,
   "metadata": {
    "colab": {
     "base_uri": "https://localhost:8080/"
    },
    "id": "i3jNmRw_scaE",
    "outputId": "07941585-f03b-489d-a2dc-b296eda5bc4e"
   },
   "outputs": [
    {
     "name": "stdout",
     "output_type": "stream",
     "text": [
      "Model: \"sequential_9\"\n",
      "_________________________________________________________________\n",
      "Layer (type)                 Output Shape              Param #   \n",
      "=================================================================\n",
      "densenet121 (Model)          (None, 1, 1, 1024)        7037504   \n",
      "_________________________________________________________________\n",
      "flatten_8 (Flatten)          (None, 1024)              0         \n",
      "_________________________________________________________________\n",
      "dense_22 (Dense)             (None, 64)                65600     \n",
      "_________________________________________________________________\n",
      "dense_23 (Dense)             (None, 64)                4160      \n",
      "_________________________________________________________________\n",
      "dense_24 (Dense)             (None, 32)                2080      \n",
      "_________________________________________________________________\n",
      "dense_25 (Dense)             (None, 32)                1056      \n",
      "_________________________________________________________________\n",
      "dense_26 (Dense)             (None, 13)                429       \n",
      "=================================================================\n",
      "Total params: 7,110,829\n",
      "Trainable params: 73,325\n",
      "Non-trainable params: 7,037,504\n",
      "_________________________________________________________________\n"
     ]
    }
   ],
   "source": [
    "base_model_densenet121 = DenseNet121(weights='imagenet',include_top=False,input_shape=(32, 32, 3))\r\n",
    "\r\n",
    "# Freezing Layers\r\n",
    "for layer in base_model_densenet121.layers:\r\n",
    "    layer.trainable=False\r\n",
    "\r\n",
    "# Building Model\r\n",
    "\r\n",
    "model_densenet_121 = Sequential()\r\n",
    "model_densenet_121.add(base_model_densenet121)\r\n",
    "model_densenet_121.add(Flatten())\r\n",
    "model_densenet_121.add(Dense(64, activation='relu'))\r\n",
    "model_densenet_121.add(Dense(64, activation='relu'))\r\n",
    "model_densenet_121.add(Dense(32, activation='relu'))\r\n",
    "model_densenet_121.add(Dense(32, activation='relu'))\r\n",
    "model_densenet_121.add(Dense(13, activation='sigmoid'))\r\n",
    "\r\n",
    "model_densenet_121.summary()"
   ]
  },
  {
   "cell_type": "code",
   "execution_count": 131,
   "metadata": {},
   "outputs": [
    {
     "data": {
      "text/plain": [
       "7"
      ]
     },
     "execution_count": 131,
     "metadata": {},
     "output_type": "execute_result"
    }
   ],
   "source": [
    "len(model_densenet_121.layers)"
   ]
  },
  {
   "cell_type": "code",
   "execution_count": 112,
   "metadata": {
    "id": "z_txHCrXsdOX"
   },
   "outputs": [],
   "source": [
    "model_densenet_121.compile(loss='categorical_crossentropy',optimizer='adam',metrics=['acc'])"
   ]
  },
  {
   "cell_type": "code",
   "execution_count": 113,
   "metadata": {
    "colab": {
     "base_uri": "https://localhost:8080/"
    },
    "id": "vRFo5iY1sc_J",
    "outputId": "af638f95-b264-4741-927a-246c993a24cb"
   },
   "outputs": [
    {
     "name": "stdout",
     "output_type": "stream",
     "text": [
      "Train on 544 samples, validate on 136 samples\n",
      "Epoch 1/100\n",
      "544/544 [==============================] - 13s 24ms/sample - loss: 2.5739 - acc: 0.0882 - val_loss: 2.5679 - val_acc: 0.0882\n",
      "Epoch 2/100\n",
      "544/544 [==============================] - 5s 8ms/sample - loss: 2.5573 - acc: 0.0938 - val_loss: 2.5707 - val_acc: 0.0956\n",
      "Epoch 3/100\n",
      "544/544 [==============================] - 5s 8ms/sample - loss: 2.5333 - acc: 0.1103 - val_loss: 2.5740 - val_acc: 0.0662\n",
      "Epoch 4/100\n",
      "544/544 [==============================] - 5s 9ms/sample - loss: 2.4932 - acc: 0.1489 - val_loss: 2.5835 - val_acc: 0.0882\n",
      "Epoch 5/100\n",
      "544/544 [==============================] - 5s 8ms/sample - loss: 2.4155 - acc: 0.1857 - val_loss: 2.6004 - val_acc: 0.0588\n",
      "Epoch 6/100\n",
      "544/544 [==============================] - 5s 9ms/sample - loss: 2.3136 - acc: 0.1949 - val_loss: 2.6702 - val_acc: 0.0956\n",
      "Epoch 7/100\n",
      "544/544 [==============================] - 5s 9ms/sample - loss: 2.2105 - acc: 0.2151 - val_loss: 2.7461 - val_acc: 0.0956\n",
      "Epoch 8/100\n",
      "544/544 [==============================] - 5s 9ms/sample - loss: 2.1557 - acc: 0.2647 - val_loss: 2.9326 - val_acc: 0.0809\n",
      "Epoch 9/100\n",
      "544/544 [==============================] - 5s 8ms/sample - loss: 2.0873 - acc: 0.2757 - val_loss: 2.9538 - val_acc: 0.0882\n",
      "Epoch 10/100\n",
      "544/544 [==============================] - 5s 8ms/sample - loss: 2.0468 - acc: 0.2684 - val_loss: 3.1853 - val_acc: 0.0735\n",
      "Epoch 11/100\n",
      "544/544 [==============================] - 5s 8ms/sample - loss: 1.9900 - acc: 0.3088 - val_loss: 3.2196 - val_acc: 0.0735\n",
      "Epoch 12/100\n",
      "544/544 [==============================] - 5s 8ms/sample - loss: 1.8516 - acc: 0.3621 - val_loss: 3.1874 - val_acc: 0.0735\n",
      "Epoch 13/100\n",
      "544/544 [==============================] - 5s 8ms/sample - loss: 1.8193 - acc: 0.3768 - val_loss: 3.3365 - val_acc: 0.0809\n",
      "Epoch 14/100\n",
      "544/544 [==============================] - 5s 8ms/sample - loss: 1.7344 - acc: 0.3952 - val_loss: 3.4667 - val_acc: 0.0809\n",
      "Epoch 15/100\n",
      "544/544 [==============================] - 5s 9ms/sample - loss: 1.7088 - acc: 0.3879 - val_loss: 3.7124 - val_acc: 0.0809\n",
      "Epoch 16/100\n",
      "544/544 [==============================] - 5s 9ms/sample - loss: 1.5995 - acc: 0.4412 - val_loss: 3.7763 - val_acc: 0.0882\n",
      "Epoch 17/100\n",
      "544/544 [==============================] - 5s 9ms/sample - loss: 1.5911 - acc: 0.4632 - val_loss: 4.0713 - val_acc: 0.0882\n",
      "Epoch 18/100\n",
      "544/544 [==============================] - 5s 9ms/sample - loss: 1.5586 - acc: 0.4816 - val_loss: 3.8766 - val_acc: 0.0809\n",
      "Epoch 19/100\n",
      "544/544 [==============================] - 5s 8ms/sample - loss: 1.5160 - acc: 0.4908 - val_loss: 4.2092 - val_acc: 0.0809\n",
      "Epoch 20/100\n",
      "544/544 [==============================] - 5s 8ms/sample - loss: 1.4646 - acc: 0.5110 - val_loss: 4.1540 - val_acc: 0.0809\n",
      "Epoch 21/100\n",
      "544/544 [==============================] - 5s 9ms/sample - loss: 1.4047 - acc: 0.5386 - val_loss: 4.1098 - val_acc: 0.0809\n",
      "Epoch 22/100\n",
      "544/544 [==============================] - 7s 12ms/sample - loss: 1.3922 - acc: 0.5478 - val_loss: 4.2620 - val_acc: 0.0809\n",
      "Epoch 23/100\n",
      "544/544 [==============================] - 5s 9ms/sample - loss: 1.3704 - acc: 0.5460 - val_loss: 4.3571 - val_acc: 0.0809\n",
      "Epoch 24/100\n",
      "544/544 [==============================] - 5s 9ms/sample - loss: 1.3082 - acc: 0.5643 - val_loss: 4.4425 - val_acc: 0.0809\n",
      "Epoch 25/100\n",
      "544/544 [==============================] - 5s 8ms/sample - loss: 1.2245 - acc: 0.5956 - val_loss: 5.0348 - val_acc: 0.0809\n",
      "Epoch 26/100\n",
      "544/544 [==============================] - 5s 8ms/sample - loss: 1.3210 - acc: 0.5496 - val_loss: 4.4880 - val_acc: 0.0809\n",
      "Epoch 27/100\n",
      "544/544 [==============================] - 5s 8ms/sample - loss: 1.2628 - acc: 0.5754 - val_loss: 4.8123 - val_acc: 0.0809\n",
      "Epoch 28/100\n",
      "544/544 [==============================] - 5s 8ms/sample - loss: 1.1896 - acc: 0.5993 - val_loss: 4.6985 - val_acc: 0.0809\n",
      "Epoch 29/100\n",
      "544/544 [==============================] - 5s 8ms/sample - loss: 1.1565 - acc: 0.5809 - val_loss: 4.6919 - val_acc: 0.0809\n",
      "Epoch 30/100\n",
      "544/544 [==============================] - 5s 8ms/sample - loss: 1.1587 - acc: 0.6213 - val_loss: 4.3022 - val_acc: 0.0882\n",
      "Epoch 31/100\n",
      "544/544 [==============================] - 5s 8ms/sample - loss: 1.2164 - acc: 0.6213 - val_loss: 4.6022 - val_acc: 0.0809\n",
      "Epoch 32/100\n",
      "544/544 [==============================] - 4s 8ms/sample - loss: 1.0718 - acc: 0.6507 - val_loss: 4.3639 - val_acc: 0.0809\n",
      "Epoch 33/100\n",
      "544/544 [==============================] - 5s 8ms/sample - loss: 1.0721 - acc: 0.6471 - val_loss: 4.6745 - val_acc: 0.0809\n",
      "Epoch 34/100\n",
      "544/544 [==============================] - 5s 9ms/sample - loss: 1.1147 - acc: 0.6176 - val_loss: 4.8410 - val_acc: 0.0809\n",
      "Epoch 35/100\n",
      "544/544 [==============================] - 5s 8ms/sample - loss: 1.0898 - acc: 0.6287 - val_loss: 5.0253 - val_acc: 0.0809\n",
      "Epoch 36/100\n",
      "544/544 [==============================] - 5s 8ms/sample - loss: 0.9676 - acc: 0.6728 - val_loss: 5.0999 - val_acc: 0.0809\n",
      "Epoch 37/100\n",
      "544/544 [==============================] - 5s 8ms/sample - loss: 1.0188 - acc: 0.6618 - val_loss: 5.1409 - val_acc: 0.0882\n",
      "Epoch 38/100\n",
      "544/544 [==============================] - 5s 8ms/sample - loss: 0.9893 - acc: 0.6618 - val_loss: 5.4790 - val_acc: 0.0809\n",
      "Epoch 39/100\n",
      "544/544 [==============================] - 5s 8ms/sample - loss: 0.9681 - acc: 0.6857 - val_loss: 5.7487 - val_acc: 0.0882\n",
      "Epoch 40/100\n",
      "544/544 [==============================] - 5s 9ms/sample - loss: 1.0205 - acc: 0.6452 - val_loss: 4.8407 - val_acc: 0.0956\n",
      "Epoch 41/100\n",
      "544/544 [==============================] - 5s 8ms/sample - loss: 0.9258 - acc: 0.6930 - val_loss: 4.9745 - val_acc: 0.0882\n",
      "Epoch 42/100\n",
      "544/544 [==============================] - 5s 8ms/sample - loss: 1.0218 - acc: 0.6507 - val_loss: 5.4560 - val_acc: 0.0956\n",
      "Epoch 43/100\n",
      "544/544 [==============================] - 5s 8ms/sample - loss: 0.8817 - acc: 0.7188 - val_loss: 6.4470 - val_acc: 0.0882\n",
      "Epoch 44/100\n",
      "544/544 [==============================] - 5s 8ms/sample - loss: 0.9267 - acc: 0.6985 - val_loss: 5.8419 - val_acc: 0.1029\n",
      "Epoch 45/100\n",
      "544/544 [==============================] - 5s 8ms/sample - loss: 0.9760 - acc: 0.6710 - val_loss: 4.9302 - val_acc: 0.0882\n",
      "Epoch 46/100\n",
      "544/544 [==============================] - 5s 8ms/sample - loss: 1.0545 - acc: 0.6507 - val_loss: 4.6346 - val_acc: 0.1103\n",
      "Epoch 47/100\n",
      "544/544 [==============================] - 5s 8ms/sample - loss: 0.8969 - acc: 0.7022 - val_loss: 5.7817 - val_acc: 0.0809\n",
      "Epoch 48/100\n",
      "544/544 [==============================] - 5s 9ms/sample - loss: 0.9096 - acc: 0.7151 - val_loss: 5.6116 - val_acc: 0.0882\n",
      "Epoch 49/100\n",
      "544/544 [==============================] - 5s 8ms/sample - loss: 0.8788 - acc: 0.7114 - val_loss: 5.1070 - val_acc: 0.0809\n",
      "Epoch 50/100\n",
      "544/544 [==============================] - 5s 8ms/sample - loss: 0.8199 - acc: 0.7316 - val_loss: 5.2205 - val_acc: 0.0735\n",
      "Epoch 51/100\n",
      "544/544 [==============================] - 5s 8ms/sample - loss: 0.8317 - acc: 0.7298 - val_loss: 5.4412 - val_acc: 0.0809\n",
      "Epoch 52/100\n",
      "544/544 [==============================] - 5s 8ms/sample - loss: 0.8231 - acc: 0.7298 - val_loss: 6.0929 - val_acc: 0.0882\n",
      "Epoch 53/100\n",
      "544/544 [==============================] - 5s 8ms/sample - loss: 0.8846 - acc: 0.7022 - val_loss: 5.9043 - val_acc: 0.0882\n",
      "Epoch 54/100\n",
      "544/544 [==============================] - 5s 9ms/sample - loss: 0.7859 - acc: 0.7463 - val_loss: 5.3223 - val_acc: 0.1029\n",
      "Epoch 55/100\n",
      "544/544 [==============================] - 5s 9ms/sample - loss: 0.9263 - acc: 0.6801 - val_loss: 5.1397 - val_acc: 0.1029\n",
      "Epoch 56/100\n",
      "544/544 [==============================] - 5s 8ms/sample - loss: 0.8026 - acc: 0.7261 - val_loss: 5.9298 - val_acc: 0.0956\n",
      "Epoch 57/100\n",
      "544/544 [==============================] - 5s 9ms/sample - loss: 0.7589 - acc: 0.7647 - val_loss: 6.2808 - val_acc: 0.0882\n",
      "Epoch 58/100\n",
      "544/544 [==============================] - 5s 9ms/sample - loss: 0.7299 - acc: 0.7555 - val_loss: 5.8898 - val_acc: 0.0809\n",
      "Epoch 59/100\n",
      "544/544 [==============================] - 5s 9ms/sample - loss: 0.8157 - acc: 0.7261 - val_loss: 5.9536 - val_acc: 0.0956\n",
      "Epoch 60/100\n",
      "544/544 [==============================] - 5s 9ms/sample - loss: 0.6853 - acc: 0.7647 - val_loss: 6.4777 - val_acc: 0.0956\n",
      "Epoch 61/100\n",
      "544/544 [==============================] - 5s 9ms/sample - loss: 0.8036 - acc: 0.7298 - val_loss: 5.4605 - val_acc: 0.0956\n",
      "Epoch 62/100\n",
      "544/544 [==============================] - 5s 8ms/sample - loss: 0.7567 - acc: 0.7463 - val_loss: 5.7417 - val_acc: 0.1103\n",
      "Epoch 63/100\n",
      "544/544 [==============================] - 5s 8ms/sample - loss: 0.6682 - acc: 0.7592 - val_loss: 6.7201 - val_acc: 0.0882\n",
      "Epoch 64/100\n",
      "544/544 [==============================] - 5s 8ms/sample - loss: 0.6744 - acc: 0.7684 - val_loss: 5.5760 - val_acc: 0.1029\n",
      "Epoch 65/100\n",
      "544/544 [==============================] - 5s 9ms/sample - loss: 0.7529 - acc: 0.7482 - val_loss: 5.7184 - val_acc: 0.1103\n",
      "Epoch 66/100\n",
      "544/544 [==============================] - 5s 8ms/sample - loss: 0.7504 - acc: 0.7610 - val_loss: 6.1460 - val_acc: 0.1029\n",
      "Epoch 67/100\n",
      "544/544 [==============================] - 5s 8ms/sample - loss: 0.7927 - acc: 0.7463 - val_loss: 6.0851 - val_acc: 0.1029\n",
      "Epoch 68/100\n",
      "544/544 [==============================] - 5s 8ms/sample - loss: 0.7454 - acc: 0.7335 - val_loss: 5.9763 - val_acc: 0.0882\n",
      "Epoch 69/100\n",
      "544/544 [==============================] - 5s 8ms/sample - loss: 0.7421 - acc: 0.7610 - val_loss: 6.0633 - val_acc: 0.0956\n",
      "Epoch 70/100\n",
      "544/544 [==============================] - 5s 8ms/sample - loss: 0.6976 - acc: 0.7794 - val_loss: 5.9613 - val_acc: 0.1029\n",
      "Epoch 71/100\n",
      "544/544 [==============================] - 5s 8ms/sample - loss: 0.6425 - acc: 0.7757 - val_loss: 6.2675 - val_acc: 0.1029\n",
      "Epoch 72/100\n",
      "544/544 [==============================] - 5s 8ms/sample - loss: 0.6528 - acc: 0.7776 - val_loss: 6.5567 - val_acc: 0.1029\n",
      "Epoch 73/100\n",
      "544/544 [==============================] - 5s 8ms/sample - loss: 0.6553 - acc: 0.7904 - val_loss: 6.7316 - val_acc: 0.1029\n",
      "Epoch 74/100\n",
      "544/544 [==============================] - 5s 8ms/sample - loss: 0.7068 - acc: 0.7684 - val_loss: 6.6758 - val_acc: 0.0956\n",
      "Epoch 75/100\n",
      "544/544 [==============================] - 5s 8ms/sample - loss: 0.6251 - acc: 0.7923 - val_loss: 6.7331 - val_acc: 0.0809\n",
      "Epoch 76/100\n",
      "544/544 [==============================] - 5s 8ms/sample - loss: 0.5663 - acc: 0.8143 - val_loss: 6.6963 - val_acc: 0.0809\n",
      "Epoch 77/100\n",
      "544/544 [==============================] - 5s 8ms/sample - loss: 0.5939 - acc: 0.7886 - val_loss: 7.1430 - val_acc: 0.0956\n",
      "Epoch 78/100\n",
      "544/544 [==============================] - 5s 8ms/sample - loss: 0.6977 - acc: 0.7831 - val_loss: 6.9453 - val_acc: 0.0956\n",
      "Epoch 79/100\n",
      "544/544 [==============================] - 5s 8ms/sample - loss: 0.6272 - acc: 0.7904 - val_loss: 7.0205 - val_acc: 0.0956\n",
      "Epoch 80/100\n",
      "544/544 [==============================] - 5s 8ms/sample - loss: 0.6212 - acc: 0.8107 - val_loss: 7.0851 - val_acc: 0.0956\n",
      "Epoch 81/100\n",
      "544/544 [==============================] - 5s 8ms/sample - loss: 0.5577 - acc: 0.8199 - val_loss: 6.7181 - val_acc: 0.1103\n",
      "Epoch 82/100\n",
      "544/544 [==============================] - 4s 8ms/sample - loss: 0.5581 - acc: 0.8125 - val_loss: 5.8977 - val_acc: 0.1103\n",
      "Epoch 83/100\n",
      "544/544 [==============================] - 5s 8ms/sample - loss: 0.5520 - acc: 0.8199 - val_loss: 6.3138 - val_acc: 0.0882\n",
      "Epoch 84/100\n",
      "544/544 [==============================] - 5s 8ms/sample - loss: 0.5633 - acc: 0.8272 - val_loss: 6.6691 - val_acc: 0.1029\n",
      "Epoch 85/100\n",
      "544/544 [==============================] - 5s 8ms/sample - loss: 0.6637 - acc: 0.7794 - val_loss: 6.3275 - val_acc: 0.1029\n",
      "Epoch 86/100\n",
      "544/544 [==============================] - 5s 8ms/sample - loss: 0.6124 - acc: 0.8088 - val_loss: 7.2487 - val_acc: 0.1029\n",
      "Epoch 87/100\n",
      "544/544 [==============================] - 5s 8ms/sample - loss: 0.6087 - acc: 0.7960 - val_loss: 6.1367 - val_acc: 0.1103\n",
      "Epoch 88/100\n",
      "544/544 [==============================] - 5s 8ms/sample - loss: 0.6294 - acc: 0.7886 - val_loss: 6.3116 - val_acc: 0.0956\n",
      "Epoch 89/100\n",
      "544/544 [==============================] - 5s 8ms/sample - loss: 0.5628 - acc: 0.8162 - val_loss: 7.4490 - val_acc: 0.1103\n",
      "Epoch 90/100\n",
      "544/544 [==============================] - 5s 8ms/sample - loss: 0.5052 - acc: 0.8456 - val_loss: 6.8241 - val_acc: 0.0956\n",
      "Epoch 91/100\n",
      "544/544 [==============================] - 5s 8ms/sample - loss: 0.5819 - acc: 0.8033 - val_loss: 7.3407 - val_acc: 0.0882\n",
      "Epoch 92/100\n",
      "544/544 [==============================] - 5s 8ms/sample - loss: 0.6381 - acc: 0.7776 - val_loss: 6.3222 - val_acc: 0.1103\n",
      "Epoch 93/100\n",
      "544/544 [==============================] - 5s 8ms/sample - loss: 0.5209 - acc: 0.8290 - val_loss: 6.7971 - val_acc: 0.0956\n",
      "Epoch 94/100\n",
      "544/544 [==============================] - 5s 8ms/sample - loss: 0.4992 - acc: 0.8438 - val_loss: 6.8416 - val_acc: 0.0735\n",
      "Epoch 95/100\n",
      "544/544 [==============================] - 5s 8ms/sample - loss: 0.6001 - acc: 0.8033 - val_loss: 6.6858 - val_acc: 0.0956\n",
      "Epoch 96/100\n",
      "544/544 [==============================] - 5s 8ms/sample - loss: 0.5476 - acc: 0.8217 - val_loss: 7.0195 - val_acc: 0.0882\n",
      "Epoch 97/100\n",
      "544/544 [==============================] - 5s 8ms/sample - loss: 0.4993 - acc: 0.8290 - val_loss: 7.0828 - val_acc: 0.0882\n",
      "Epoch 98/100\n",
      "544/544 [==============================] - 5s 8ms/sample - loss: 0.5042 - acc: 0.8364 - val_loss: 7.2826 - val_acc: 0.0809\n",
      "Epoch 99/100\n",
      "544/544 [==============================] - 5s 8ms/sample - loss: 0.5650 - acc: 0.8125 - val_loss: 6.4803 - val_acc: 0.0662\n",
      "Epoch 100/100\n",
      "544/544 [==============================] - 5s 8ms/sample - loss: 0.5974 - acc: 0.8051 - val_loss: 6.7343 - val_acc: 0.0882\n",
      "Time taken to train the model: 469.59 seconds\n",
      "==========================================\n",
      "\n"
     ]
    }
   ],
   "source": [
    "t0=time.time()\n",
    "densenet_121_history  = model_densenet_121.fit(x_train,y_train,epochs=100,validation_split = 0.2 )\n",
    "print(\"Time taken to train the model:\", round(time.time()-t0, 2), \"seconds\")\n",
    "print(\"==========================================\")\n",
    "print()"
   ]
  },
  {
   "cell_type": "code",
   "execution_count": 114,
   "metadata": {
    "colab": {
     "base_uri": "https://localhost:8080/"
    },
    "id": "lufwk5RK8jn_",
    "outputId": "56808357-e80c-4c40-8c1f-d68fd66070c5"
   },
   "outputs": [
    {
     "name": "stdout",
     "output_type": "stream",
     "text": [
      "204/1 [========================================================================================================================================================================================================================================================================================================================================================================================================================================================================================================================================================================================================================================================================================================================================================================================================================================================================================================================================================================================================================================================================================================================================================================================================================================================================================================================================================================================================================================================================================================================================================================================================================================================================================================================================================================================================================================================================================================================================================================================================================================================================================================================================================================================================================================================================================================================================================================================================================================================================================================================================================================================================================================================================================================================================================================================================================================================================================================================================================================================================================================================================================================================================================================================================================================================================================================================================================================================================================================================================================================================================================================================================================================================================================================================================================================================================================================================================================================================================================================================================================================================================================================================================================================================================================================================================================================================================================================================================================================================================================================================================================================================================================================================================================================================================================================================================================================================================================================================================================================================================================================================================================================================================================================================================================================================================================================================================================================================================================================================================================================================================================================================================================================================================================================================================================================================================================================================================================================================================================================================================================================================================================================================================================================================================================================================================================================================================================================] - 1s 7ms/sample - loss: 6.9437 - acc: 0.0686\n",
      "Time taken to predict test cases: 1.61 seconds\n",
      "==========================================\n",
      "\n"
     ]
    }
   ],
   "source": [
    "t1=time.time()\n",
    "model_densenet_121.evaluate(x_test,y_test)\n",
    "print(\"Time taken to predict test cases:\", round(time.time()-t1, 2), \"seconds\")\n",
    "print(\"==========================================\")\n",
    "print()"
   ]
  },
  {
   "cell_type": "markdown",
   "metadata": {
    "id": "fFF1SEns8odE"
   },
   "source": [
    "The Test Set __Accuracy__ is __51.47%__"
   ]
  },
  {
   "cell_type": "code",
   "execution_count": 115,
   "metadata": {
    "colab": {
     "base_uri": "https://localhost:8080/",
     "height": 551
    },
    "id": "njdlDl5UwNTY",
    "outputId": "e4a4c31e-b089-41eb-fc8c-e6eb10866092"
   },
   "outputs": [
    {
     "data": {
      "image/png": "[encoded data removed]",
      "text/plain": [
       "<Figure size 432x288 with 1 Axes>"
      ]
     },
     "metadata": {},
     "output_type": "display_data"
    },
    {
     "data": {
      "image/png": "[encoded data removed]",
      "text/plain": [
       "<Figure size 432x288 with 1 Axes>"
      ]
     },
     "metadata": {},
     "output_type": "display_data"
    }
   ],
   "source": [
    "plot(densenet_121_history)"
   ]
  },
  {
   "cell_type": "markdown",
   "metadata": {
    "id": "CTSXzgAYs6tB"
   },
   "source": [
    "# DenseNet 169"
   ]
  },
  {
   "cell_type": "code",
   "execution_count": 116,
   "metadata": {
    "colab": {
     "base_uri": "https://localhost:8080/"
    },
    "id": "OPglvypvsc1G",
    "outputId": "21b27664-7bce-4d58-ec1d-c4c07f48d504"
   },
   "outputs": [
    {
     "name": "stdout",
     "output_type": "stream",
     "text": [
      "Model: \"sequential_10\"\n",
      "_________________________________________________________________\n",
      "Layer (type)                 Output Shape              Param #   \n",
      "=================================================================\n",
      "densenet169 (Model)          (None, 1, 1, 1664)        12642880  \n",
      "_________________________________________________________________\n",
      "flatten_9 (Flatten)          (None, 1664)              0         \n",
      "_________________________________________________________________\n",
      "dense_27 (Dense)             (None, 64)                106560    \n",
      "_________________________________________________________________\n",
      "dense_28 (Dense)             (None, 64)                4160      \n",
      "_________________________________________________________________\n",
      "dense_29 (Dense)             (None, 32)                2080      \n",
      "_________________________________________________________________\n",
      "dense_30 (Dense)             (None, 32)                1056      \n",
      "_________________________________________________________________\n",
      "dense_31 (Dense)             (None, 13)                429       \n",
      "=================================================================\n",
      "Total params: 12,757,165\n",
      "Trainable params: 114,285\n",
      "Non-trainable params: 12,642,880\n",
      "_________________________________________________________________\n"
     ]
    }
   ],
   "source": [
    "base_model_densenet169 = DenseNet169(weights='imagenet',include_top=False,input_shape=(32, 32, 3))\r\n",
    "\r\n",
    "# Freezing Layers\r\n",
    "for layer in base_model_densenet169.layers:\r\n",
    "    layer.trainable=False\r\n",
    "\r\n",
    "# Building Model\r\n",
    "\r\n",
    "model_densenet_169 = Sequential()\r\n",
    "model_densenet_169.add(base_model_densenet169)\r\n",
    "model_densenet_169.add(Flatten())\r\n",
    "model_densenet_169.add(Dense(64, activation='relu'))\r\n",
    "model_densenet_169.add(Dense(64, activation='relu'))\r\n",
    "model_densenet_169.add(Dense(32, activation='relu'))\r\n",
    "model_densenet_169.add(Dense(32, activation='relu'))\r\n",
    "model_densenet_169.add(Dense(13, activation='sigmoid'))\r\n",
    "\r\n",
    "model_densenet_169.summary()"
   ]
  },
  {
   "cell_type": "code",
   "execution_count": 130,
   "metadata": {},
   "outputs": [
    {
     "data": {
      "text/plain": [
       "7"
      ]
     },
     "execution_count": 130,
     "metadata": {},
     "output_type": "execute_result"
    }
   ],
   "source": [
    "len(model_densenet_169.layers)"
   ]
  },
  {
   "cell_type": "code",
   "execution_count": 118,
   "metadata": {
    "id": "8zfnABsjtE63"
   },
   "outputs": [],
   "source": [
    "model_densenet_169.compile(loss='categorical_crossentropy',optimizer='adam',metrics=['acc'])"
   ]
  },
  {
   "cell_type": "code",
   "execution_count": 119,
   "metadata": {
    "colab": {
     "base_uri": "https://localhost:8080/"
    },
    "id": "cj2hV9UNtIbA",
    "outputId": "d3c85cb1-bf85-495f-f53f-8d6eaf32d225"
   },
   "outputs": [
    {
     "name": "stdout",
     "output_type": "stream",
     "text": [
      "Train on 544 samples, validate on 136 samples\n",
      "Epoch 1/100\n",
      "544/544 [==============================] - 22s 40ms/sample - loss: 2.5727 - acc: 0.0809 - val_loss: 2.5687 - val_acc: 0.0588\n",
      "Epoch 2/100\n",
      "544/544 [==============================] - 6s 11ms/sample - loss: 2.5544 - acc: 0.0938 - val_loss: 2.5704 - val_acc: 0.0956\n",
      "Epoch 3/100\n",
      "544/544 [==============================] - 6s 11ms/sample - loss: 2.5221 - acc: 0.1066 - val_loss: 2.5729 - val_acc: 0.0809\n",
      "Epoch 4/100\n",
      "544/544 [==============================] - 6s 10ms/sample - loss: 2.4815 - acc: 0.1305 - val_loss: 2.5860 - val_acc: 0.0956\n",
      "Epoch 5/100\n",
      "544/544 [==============================] - 6s 11ms/sample - loss: 2.4205 - acc: 0.1489 - val_loss: 2.6026 - val_acc: 0.0882\n",
      "Epoch 6/100\n",
      "544/544 [==============================] - 6s 11ms/sample - loss: 2.3326 - acc: 0.1673 - val_loss: 2.6386 - val_acc: 0.0809\n",
      "Epoch 7/100\n",
      "544/544 [==============================] - 6s 11ms/sample - loss: 2.2890 - acc: 0.2371 - val_loss: 2.6757 - val_acc: 0.0882\n",
      "Epoch 8/100\n",
      "544/544 [==============================] - 6s 11ms/sample - loss: 2.1609 - acc: 0.2831 - val_loss: 2.7759 - val_acc: 0.0809\n",
      "Epoch 9/100\n",
      "544/544 [==============================] - 6s 11ms/sample - loss: 2.0904 - acc: 0.3088 - val_loss: 2.8288 - val_acc: 0.0956\n",
      "Epoch 10/100\n",
      "544/544 [==============================] - 6s 11ms/sample - loss: 1.9955 - acc: 0.3107 - val_loss: 2.9745 - val_acc: 0.0956\n",
      "Epoch 11/100\n",
      "544/544 [==============================] - 6s 11ms/sample - loss: 1.9332 - acc: 0.4044 - val_loss: 2.8509 - val_acc: 0.1029\n",
      "Epoch 12/100\n",
      "544/544 [==============================] - 6s 11ms/sample - loss: 1.8313 - acc: 0.4007 - val_loss: 2.9102 - val_acc: 0.0882\n",
      "Epoch 13/100\n",
      "544/544 [==============================] - 6s 11ms/sample - loss: 1.7398 - acc: 0.4173 - val_loss: 3.1156 - val_acc: 0.1029\n",
      "Epoch 14/100\n",
      "544/544 [==============================] - 6s 10ms/sample - loss: 1.6828 - acc: 0.4357 - val_loss: 3.0523 - val_acc: 0.1176\n",
      "Epoch 15/100\n",
      "544/544 [==============================] - 6s 11ms/sample - loss: 1.5791 - acc: 0.4669 - val_loss: 3.0175 - val_acc: 0.1250\n",
      "Epoch 16/100\n",
      "544/544 [==============================] - 6s 11ms/sample - loss: 1.5946 - acc: 0.4779 - val_loss: 3.0253 - val_acc: 0.1029\n",
      "Epoch 17/100\n",
      "544/544 [==============================] - 6s 11ms/sample - loss: 1.5354 - acc: 0.4926 - val_loss: 3.1002 - val_acc: 0.0735\n",
      "Epoch 18/100\n",
      "544/544 [==============================] - 6s 11ms/sample - loss: 1.4024 - acc: 0.5147 - val_loss: 3.3056 - val_acc: 0.0588\n",
      "Epoch 19/100\n",
      "544/544 [==============================] - 6s 11ms/sample - loss: 1.3865 - acc: 0.5441 - val_loss: 3.3013 - val_acc: 0.0662\n",
      "Epoch 20/100\n",
      "544/544 [==============================] - 6s 10ms/sample - loss: 1.2982 - acc: 0.5699 - val_loss: 3.3125 - val_acc: 0.0882\n",
      "Epoch 21/100\n",
      "544/544 [==============================] - 6s 10ms/sample - loss: 1.3062 - acc: 0.5717 - val_loss: 3.2668 - val_acc: 0.0588\n",
      "Epoch 22/100\n",
      "544/544 [==============================] - 6s 10ms/sample - loss: 1.2522 - acc: 0.5864 - val_loss: 3.3871 - val_acc: 0.0882\n",
      "Epoch 23/100\n",
      "544/544 [==============================] - 6s 11ms/sample - loss: 1.3212 - acc: 0.5496 - val_loss: 3.3808 - val_acc: 0.0882\n",
      "Epoch 24/100\n",
      "544/544 [==============================] - 6s 10ms/sample - loss: 1.1720 - acc: 0.6029 - val_loss: 3.3335 - val_acc: 0.0809\n",
      "Epoch 25/100\n",
      "544/544 [==============================] - 6s 10ms/sample - loss: 1.1377 - acc: 0.6213 - val_loss: 3.3791 - val_acc: 0.0588\n",
      "Epoch 26/100\n",
      "544/544 [==============================] - 6s 10ms/sample - loss: 1.2293 - acc: 0.5790 - val_loss: 3.2120 - val_acc: 0.0735\n",
      "Epoch 27/100\n",
      "544/544 [==============================] - 6s 10ms/sample - loss: 1.2437 - acc: 0.5956 - val_loss: 2.9847 - val_acc: 0.0882\n",
      "Epoch 28/100\n",
      "544/544 [==============================] - 6s 10ms/sample - loss: 1.1735 - acc: 0.6103 - val_loss: 3.1307 - val_acc: 0.1176\n",
      "Epoch 29/100\n",
      "544/544 [==============================] - 6s 10ms/sample - loss: 1.1393 - acc: 0.6232 - val_loss: 3.2398 - val_acc: 0.1176\n",
      "Epoch 30/100\n",
      "544/544 [==============================] - 6s 11ms/sample - loss: 1.1781 - acc: 0.6232 - val_loss: 3.5120 - val_acc: 0.1103\n",
      "Epoch 31/100\n",
      "544/544 [==============================] - 6s 11ms/sample - loss: 1.1270 - acc: 0.6011 - val_loss: 3.5331 - val_acc: 0.1103\n",
      "Epoch 32/100\n",
      "544/544 [==============================] - 6s 11ms/sample - loss: 1.0783 - acc: 0.6471 - val_loss: 3.6244 - val_acc: 0.0662\n",
      "Epoch 33/100\n",
      "544/544 [==============================] - 6s 10ms/sample - loss: 1.0618 - acc: 0.6360 - val_loss: 3.5806 - val_acc: 0.0956\n",
      "Epoch 34/100\n",
      "544/544 [==============================] - 6s 10ms/sample - loss: 1.0376 - acc: 0.6526 - val_loss: 3.5392 - val_acc: 0.0735\n",
      "Epoch 35/100\n",
      "544/544 [==============================] - 6s 11ms/sample - loss: 0.9168 - acc: 0.6673 - val_loss: 3.8348 - val_acc: 0.0882\n",
      "Epoch 36/100\n",
      "544/544 [==============================] - 6s 10ms/sample - loss: 0.8986 - acc: 0.7040 - val_loss: 3.7233 - val_acc: 0.1324\n",
      "Epoch 37/100\n",
      "544/544 [==============================] - 6s 10ms/sample - loss: 1.0909 - acc: 0.6250 - val_loss: 3.6172 - val_acc: 0.0882\n",
      "Epoch 38/100\n",
      "544/544 [==============================] - 6s 11ms/sample - loss: 1.0482 - acc: 0.6342 - val_loss: 3.6020 - val_acc: 0.0662\n",
      "Epoch 39/100\n",
      "544/544 [==============================] - 6s 11ms/sample - loss: 0.9560 - acc: 0.6875 - val_loss: 3.6748 - val_acc: 0.0735\n",
      "Epoch 40/100\n",
      "544/544 [==============================] - 6s 10ms/sample - loss: 0.9336 - acc: 0.7040 - val_loss: 3.7913 - val_acc: 0.0588\n",
      "Epoch 41/100\n",
      "544/544 [==============================] - 6s 10ms/sample - loss: 0.8612 - acc: 0.6967 - val_loss: 3.7530 - val_acc: 0.0662\n",
      "Epoch 42/100\n",
      "544/544 [==============================] - 6s 11ms/sample - loss: 0.8643 - acc: 0.7169 - val_loss: 3.6437 - val_acc: 0.0882\n",
      "Epoch 43/100\n",
      "544/544 [==============================] - 6s 10ms/sample - loss: 0.9626 - acc: 0.7004 - val_loss: 3.7328 - val_acc: 0.0735\n",
      "Epoch 44/100\n",
      "544/544 [==============================] - 6s 10ms/sample - loss: 0.9163 - acc: 0.6857 - val_loss: 3.7514 - val_acc: 0.0882\n",
      "Epoch 45/100\n",
      "544/544 [==============================] - 6s 10ms/sample - loss: 0.8904 - acc: 0.7022 - val_loss: 3.7778 - val_acc: 0.0662\n",
      "Epoch 46/100\n",
      "544/544 [==============================] - 6s 11ms/sample - loss: 0.8521 - acc: 0.7408 - val_loss: 3.7201 - val_acc: 0.0662\n",
      "Epoch 47/100\n",
      "544/544 [==============================] - 6s 10ms/sample - loss: 0.7870 - acc: 0.7537 - val_loss: 4.0010 - val_acc: 0.0882\n",
      "Epoch 48/100\n",
      "544/544 [==============================] - 6s 11ms/sample - loss: 0.7481 - acc: 0.7353 - val_loss: 3.5529 - val_acc: 0.0956\n",
      "Epoch 49/100\n",
      "544/544 [==============================] - 6s 11ms/sample - loss: 0.8773 - acc: 0.7077 - val_loss: 3.7852 - val_acc: 0.0662\n",
      "Epoch 50/100\n",
      "544/544 [==============================] - 6s 10ms/sample - loss: 0.7690 - acc: 0.7647 - val_loss: 3.9889 - val_acc: 0.0809\n",
      "Epoch 51/100\n",
      "544/544 [==============================] - 6s 10ms/sample - loss: 0.8098 - acc: 0.7463 - val_loss: 3.8521 - val_acc: 0.0662\n",
      "Epoch 52/100\n",
      "544/544 [==============================] - 6s 10ms/sample - loss: 0.8203 - acc: 0.7335 - val_loss: 3.7016 - val_acc: 0.0809\n",
      "Epoch 53/100\n",
      "544/544 [==============================] - 6s 10ms/sample - loss: 0.8145 - acc: 0.7463 - val_loss: 3.8356 - val_acc: 0.0588\n",
      "Epoch 54/100\n",
      "544/544 [==============================] - 6s 11ms/sample - loss: 0.8289 - acc: 0.7426 - val_loss: 3.6349 - val_acc: 0.0956\n",
      "Epoch 55/100\n",
      "544/544 [==============================] - 6s 10ms/sample - loss: 0.7241 - acc: 0.7592 - val_loss: 4.1565 - val_acc: 0.1176\n",
      "Epoch 56/100\n",
      "544/544 [==============================] - 6s 10ms/sample - loss: 0.8129 - acc: 0.7482 - val_loss: 3.9217 - val_acc: 0.0882\n",
      "Epoch 57/100\n",
      "544/544 [==============================] - 6s 10ms/sample - loss: 0.7773 - acc: 0.7353 - val_loss: 4.0285 - val_acc: 0.0662\n",
      "Epoch 58/100\n",
      "544/544 [==============================] - 6s 10ms/sample - loss: 0.7698 - acc: 0.7279 - val_loss: 3.8318 - val_acc: 0.0735\n",
      "Epoch 59/100\n",
      "544/544 [==============================] - 6s 11ms/sample - loss: 0.7239 - acc: 0.7647 - val_loss: 4.0113 - val_acc: 0.0809\n",
      "Epoch 60/100\n",
      "544/544 [==============================] - 6s 11ms/sample - loss: 0.7029 - acc: 0.7757 - val_loss: 4.1389 - val_acc: 0.0735\n",
      "Epoch 61/100\n",
      "544/544 [==============================] - 6s 10ms/sample - loss: 0.6675 - acc: 0.7886 - val_loss: 4.3289 - val_acc: 0.0809\n",
      "Epoch 62/100\n",
      "544/544 [==============================] - 6s 10ms/sample - loss: 0.8047 - acc: 0.7518 - val_loss: 4.2638 - val_acc: 0.0662\n",
      "Epoch 63/100\n",
      "544/544 [==============================] - 6s 10ms/sample - loss: 0.6760 - acc: 0.7831 - val_loss: 4.1734 - val_acc: 0.0809\n",
      "Epoch 64/100\n",
      "544/544 [==============================] - 6s 11ms/sample - loss: 0.7097 - acc: 0.7647 - val_loss: 4.1531 - val_acc: 0.0441\n",
      "Epoch 65/100\n",
      "544/544 [==============================] - 6s 11ms/sample - loss: 0.7059 - acc: 0.7592 - val_loss: 4.1393 - val_acc: 0.0662\n",
      "Epoch 66/100\n",
      "544/544 [==============================] - 6s 10ms/sample - loss: 0.6414 - acc: 0.7978 - val_loss: 4.5900 - val_acc: 0.0956\n",
      "Epoch 67/100\n",
      "544/544 [==============================] - 6s 10ms/sample - loss: 0.7038 - acc: 0.7868 - val_loss: 4.6175 - val_acc: 0.1029\n",
      "Epoch 68/100\n",
      "544/544 [==============================] - 6s 10ms/sample - loss: 0.6621 - acc: 0.7904 - val_loss: 4.3223 - val_acc: 0.0882\n",
      "Epoch 69/100\n",
      "544/544 [==============================] - 6s 10ms/sample - loss: 0.6983 - acc: 0.7647 - val_loss: 3.9263 - val_acc: 0.0662\n",
      "Epoch 70/100\n",
      "544/544 [==============================] - 6s 10ms/sample - loss: 0.6514 - acc: 0.7739 - val_loss: 3.9804 - val_acc: 0.0809\n",
      "Epoch 71/100\n",
      "544/544 [==============================] - 6s 10ms/sample - loss: 0.6452 - acc: 0.7960 - val_loss: 4.1392 - val_acc: 0.0735\n",
      "Epoch 72/100\n",
      "544/544 [==============================] - 6s 11ms/sample - loss: 0.7097 - acc: 0.7702 - val_loss: 4.0816 - val_acc: 0.0809\n",
      "Epoch 73/100\n",
      "544/544 [==============================] - 6s 10ms/sample - loss: 0.7184 - acc: 0.7684 - val_loss: 4.2481 - val_acc: 0.0809\n",
      "Epoch 74/100\n",
      "544/544 [==============================] - 6s 11ms/sample - loss: 0.6710 - acc: 0.7702 - val_loss: 4.4403 - val_acc: 0.0662\n",
      "Epoch 75/100\n",
      "544/544 [==============================] - 6s 10ms/sample - loss: 0.6359 - acc: 0.7978 - val_loss: 4.1272 - val_acc: 0.0588\n",
      "Epoch 76/100\n",
      "544/544 [==============================] - 6s 10ms/sample - loss: 0.7142 - acc: 0.7868 - val_loss: 3.8657 - val_acc: 0.0882\n",
      "Epoch 77/100\n",
      "544/544 [==============================] - 6s 11ms/sample - loss: 0.6517 - acc: 0.7739 - val_loss: 4.1103 - val_acc: 0.0809\n",
      "Epoch 78/100\n",
      "544/544 [==============================] - 6s 10ms/sample - loss: 0.7153 - acc: 0.7647 - val_loss: 4.0859 - val_acc: 0.0662\n",
      "Epoch 79/100\n",
      "544/544 [==============================] - 6s 11ms/sample - loss: 0.6905 - acc: 0.7665 - val_loss: 4.2752 - val_acc: 0.1176\n",
      "Epoch 80/100\n",
      "544/544 [==============================] - 6s 11ms/sample - loss: 0.6127 - acc: 0.7794 - val_loss: 4.2131 - val_acc: 0.0882\n",
      "Epoch 81/100\n",
      "544/544 [==============================] - 6s 10ms/sample - loss: 0.5996 - acc: 0.7941 - val_loss: 4.3461 - val_acc: 0.0882\n",
      "Epoch 82/100\n",
      "544/544 [==============================] - 6s 10ms/sample - loss: 0.5618 - acc: 0.8180 - val_loss: 4.1903 - val_acc: 0.0956\n",
      "Epoch 83/100\n",
      "544/544 [==============================] - 6s 10ms/sample - loss: 0.5439 - acc: 0.8346 - val_loss: 4.5570 - val_acc: 0.0662\n",
      "Epoch 84/100\n",
      "544/544 [==============================] - 6s 11ms/sample - loss: 0.6132 - acc: 0.8088 - val_loss: 4.4171 - val_acc: 0.0588\n",
      "Epoch 85/100\n",
      "544/544 [==============================] - 6s 11ms/sample - loss: 0.5591 - acc: 0.8143 - val_loss: 4.5059 - val_acc: 0.0735\n",
      "Epoch 86/100\n",
      "544/544 [==============================] - 6s 11ms/sample - loss: 0.6621 - acc: 0.7849 - val_loss: 4.4600 - val_acc: 0.0588\n",
      "Epoch 87/100\n",
      "544/544 [==============================] - 6s 10ms/sample - loss: 0.5676 - acc: 0.8254 - val_loss: 4.6849 - val_acc: 0.0882\n",
      "Epoch 88/100\n",
      "544/544 [==============================] - 6s 10ms/sample - loss: 0.6006 - acc: 0.7886 - val_loss: 4.4103 - val_acc: 0.0735\n",
      "Epoch 89/100\n",
      "544/544 [==============================] - 6s 10ms/sample - loss: 0.5639 - acc: 0.8162 - val_loss: 4.4383 - val_acc: 0.0882\n",
      "Epoch 90/100\n",
      "544/544 [==============================] - 6s 10ms/sample - loss: 0.6343 - acc: 0.7996 - val_loss: 4.6136 - val_acc: 0.0588\n",
      "Epoch 91/100\n",
      "544/544 [==============================] - 6s 10ms/sample - loss: 0.6384 - acc: 0.7923 - val_loss: 4.3891 - val_acc: 0.0882\n",
      "Epoch 92/100\n",
      "544/544 [==============================] - 6s 10ms/sample - loss: 0.4872 - acc: 0.8327 - val_loss: 5.0483 - val_acc: 0.0662\n",
      "Epoch 93/100\n",
      "544/544 [==============================] - 6s 10ms/sample - loss: 0.5490 - acc: 0.8125 - val_loss: 4.4714 - val_acc: 0.0809\n",
      "Epoch 94/100\n",
      "544/544 [==============================] - 6s 10ms/sample - loss: 0.6172 - acc: 0.8088 - val_loss: 4.5084 - val_acc: 0.0882\n",
      "Epoch 95/100\n",
      "544/544 [==============================] - 6s 11ms/sample - loss: 0.4896 - acc: 0.8456 - val_loss: 4.7518 - val_acc: 0.0662\n",
      "Epoch 96/100\n",
      "544/544 [==============================] - 6s 11ms/sample - loss: 0.5896 - acc: 0.8327 - val_loss: 4.4161 - val_acc: 0.0735\n",
      "Epoch 97/100\n",
      "544/544 [==============================] - 6s 11ms/sample - loss: 0.6056 - acc: 0.8125 - val_loss: 4.2586 - val_acc: 0.1029\n",
      "Epoch 98/100\n",
      "544/544 [==============================] - 6s 11ms/sample - loss: 0.5397 - acc: 0.8217 - val_loss: 4.3352 - val_acc: 0.0662\n",
      "Epoch 99/100\n",
      "544/544 [==============================] - 6s 10ms/sample - loss: 0.5681 - acc: 0.8235 - val_loss: 4.5158 - val_acc: 0.0588\n",
      "Epoch 100/100\n",
      "544/544 [==============================] - 6s 10ms/sample - loss: 0.4531 - acc: 0.8695 - val_loss: 5.1109 - val_acc: 0.0662\n",
      "Time taken to train the model: 587.77 seconds\n",
      "==========================================\n",
      "\n"
     ]
    }
   ],
   "source": [
    "\n",
    "t0=time.time()\n",
    "densenet_169_history  = model_densenet_169.fit(x_train,y_train,epochs=100,validation_split = 0.2)\n",
    "print(\"Time taken to train the model:\", round(time.time()-t0, 2), \"seconds\")\n",
    "print(\"==========================================\")\n",
    "print()\n"
   ]
  },
  {
   "cell_type": "code",
   "execution_count": 120,
   "metadata": {
    "colab": {
     "base_uri": "https://localhost:8080/"
    },
    "id": "YTisgz258x1X",
    "outputId": "f8b54490-31d3-46a6-9b6b-1a3fcc0f6f75"
   },
   "outputs": [
    {
     "name": "stdout",
     "output_type": "stream",
     "text": [
      "204/1 [========================================================================================================================================================================================================================================================================================================================================================================================================================================================================================================================================================================================================================================================================================================================================================================================================================================================================================================================================================================================================================================================================================================================================================================================================================================================================================================================================================================================================================================================================================================================================================================================================================================================================================================================================================================================================================================================================================================================================================================================================================================================================================================================================================================================================================================================================================================================================================================================================================================================================================================================================================================================================================================================================================================================================================================================================================================================================================================================================================================================================================================================================================================================================================================================================================================================================================================================================================================================================================================================================================================================================================================================================================================================================================================================================================================================================================================================================================================================================================================================================================================================================================================================================================================================================================================================================================================================================================================================================================================================================================================================================================================================================================================================================================================================================================================================================================================================================================================================================================================================================================================================================================================================================================================================================================================================================================================================================================================================================================================================================================================================================================================================================================================================================================================================================================================================================================================================================================================================================================================================================================================================================================================================================================================================================================================================================================================================================================================] - 2s 8ms/sample - loss: 4.6962 - acc: 0.0980\n",
      "Time taken to predict test cases: 1.83 seconds\n",
      "==========================================\n",
      "\n"
     ]
    }
   ],
   "source": [
    "t1=time.time()\n",
    "model_densenet_169.evaluate(x_test,y_test)\n",
    "print(\"Time taken to predict test cases:\", round(time.time()-t1, 2), \"seconds\")\n",
    "print(\"==========================================\")\n",
    "print()"
   ]
  },
  {
   "cell_type": "markdown",
   "metadata": {
    "id": "UWTxFNzn8103"
   },
   "source": [
    "The test set __Accuracy__ is __52.45%__"
   ]
  },
  {
   "cell_type": "code",
   "execution_count": 121,
   "metadata": {
    "colab": {
     "base_uri": "https://localhost:8080/",
     "height": 551
    },
    "id": "4IUqIfPJwQTW",
    "outputId": "f31d582c-340e-40b4-98f8-1e5b603bfcde"
   },
   "outputs": [
    {
     "data": {
      "image/png": "[encoded data removed]",
      "text/plain": [
       "<Figure size 432x288 with 1 Axes>"
      ]
     },
     "metadata": {},
     "output_type": "display_data"
    },
    {
     "data": {
      "image/png": "[encoded data removed]",
      "text/plain": [
       "<Figure size 432x288 with 1 Axes>"
      ]
     },
     "metadata": {},
     "output_type": "display_data"
    }
   ],
   "source": [
    "plot(densenet_169_history)"
   ]
  },
  {
   "cell_type": "markdown",
   "metadata": {
    "id": "k2vR5q3Jwm_x"
   },
   "source": [
    "# AlexNet"
   ]
  },
  {
   "cell_type": "code",
   "execution_count": null,
   "metadata": {},
   "outputs": [],
   "source": [
    "cnn_model = Sequential([\n",
    "                                     \n",
    "    keras.layers.Conv2D(filters=128, kernel_size=(11,11), strides=(4,4), activation='relu', input_shape=(32,32,3)),\n",
    "    keras.layers.BatchNormalization(),\n",
    "    keras.layers.MaxPool2D(pool_size=(2,2)),\n",
    "    keras.layers.Conv2D(filters=256, kernel_size=(5,5), strides=(1,1), activation='relu', padding=\"same\"),\n",
    "    keras.layers.BatchNormalization(),\n",
    "    keras.layers.MaxPool2D(pool_size=(3,3)),\n",
    "    keras.layers.Conv2D(filters=256, kernel_size=(3,3), strides=(1,1), activation='relu', padding=\"same\"),\n",
    "    keras.layers.BatchNormalization(),\n",
    "    keras.layers.Conv2D(filters=256, kernel_size=(1,1), strides=(1,1), activation='relu', padding=\"same\"),\n",
    "    keras.layers.BatchNormalization(),\n",
    "    keras.layers.Conv2D(filters=256, kernel_size=(1,1), strides=(1,1), activation='relu', padding=\"same\"),\n",
    "    keras.layers.BatchNormalization(),\n",
    "    keras.layers.Flatten(),\n",
    "\n",
    "    keras.layers.Dense(1024,activation='relu'),\n",
    "    keras.layers.Dropout(0.5),\n",
    "    keras.layers.Dense(1024,activation='relu'),\n",
    "    keras.layers.Dropout(0.5),\n",
    "    keras.layers.Dense(10,activation='softmax')  \n",
    "])\n",
    "cnn_model.summary()"
   ]
  },
  {
   "cell_type": "code",
   "execution_count": null,
   "metadata": {},
   "outputs": [],
   "source": [
    "len(cnn_model.layers)"
   ]
  },
  {
   "cell_type": "code",
   "execution_count": null,
   "metadata": {
    "id": "lWJPWAtKxUp8"
   },
   "outputs": [],
   "source": [
    "cnn_model.compile(loss = 'categorical_crossentropy',optimizer='adam', metrics = ['acc'])"
   ]
  },
  {
   "cell_type": "code",
   "execution_count": null,
   "metadata": {
    "colab": {
     "base_uri": "https://localhost:8080/"
    },
    "id": "I9x44_Aexee0",
    "outputId": "a2cbdd3a-e9bc-448c-d7b9-cf46e52a3dbf"
   },
   "outputs": [],
   "source": [
    "\n",
    "t0=time.time()\n",
    "cnn_history  = cnn_model.fit(x_train,y_train,epochs=100,validation_split = 0.2 )\n",
    "print(\"Time taken to train the model:\", round(time.time()-t0, 2), \"seconds\")\n",
    "print(\"==========================================\")\n",
    "print()\n",
    "\n"
   ]
  },
  {
   "cell_type": "code",
   "execution_count": null,
   "metadata": {
    "colab": {
     "base_uri": "https://localhost:8080/"
    },
    "id": "m2BWEw3T-uNz",
    "outputId": "6402a34b-840a-48d7-b831-25ac14c780a0"
   },
   "outputs": [],
   "source": [
    "t1=time.time()\n",
    "cnn_model.evaluate(x_test,y_test)\n",
    "print(\"Time taken to predict test cases:\", round(time.time()-t1, 2), \"seconds\")\n",
    "print(\"==========================================\")\n",
    "print()\n",
    "\n",
    "\n",
    "\n",
    "\n"
   ]
  },
  {
   "cell_type": "markdown",
   "metadata": {
    "id": "b23SCUBH-1Yq"
   },
   "source": [
    "The Test set **Accuracy** is **69.61%**"
   ]
  },
  {
   "cell_type": "code",
   "execution_count": null,
   "metadata": {
    "colab": {
     "base_uri": "https://localhost:8080/",
     "height": 551
    },
    "id": "WVEojuZuxjPD",
    "outputId": "d19d06b9-7f1a-4b0a-cdab-3ec14157b2d7"
   },
   "outputs": [],
   "source": [
    "plot(cnn_history)"
   ]
  }
 ],
 "metadata": {
  "accelerator": "GPU",
  "colab": {
   "collapsed_sections": [],
   "name": "Pose Final Submit.ipynb",
   "provenance": [],
   "toc_visible": true
  },
  "kernelspec": {
   "display_name": "Python 3",
   "language": "python",
   "name": "python3"
  },
  "language_info": {
   "codemirror_mode": {
    "name": "ipython",
    "version": 3
   },
   "file_extension": ".py",
   "mimetype": "text/x-python",
   "name": "python",
   "nbconvert_exporter": "python",
   "pygments_lexer": "ipython3",
   "version": "3.7.9"
  }
 },
 "nbformat": 4,
 "nbformat_minor": 4
}
