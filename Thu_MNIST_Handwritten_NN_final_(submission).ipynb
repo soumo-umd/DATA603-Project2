{
 "cells": [
  {
   "cell_type": "markdown",
   "metadata": {
    "id": "bbFQEWBCazor"
   },
   "source": [
    "## Thu Cao\n",
    "MNIST Handwritten Dataset"
   ]
  },
  {
   "cell_type": "markdown",
   "metadata": {},
   "source": [
    "data source: http://yann.lecun.com/exdb/mnist/"
   ]
  },
  {
   "cell_type": "code",
   "execution_count": 1,
   "metadata": {
    "id": "_11GbDyPamWV"
   },
   "outputs": [
    {
     "name": "stderr",
     "output_type": "stream",
     "text": [
      "Using TensorFlow backend.\n"
     ]
    }
   ],
   "source": [
    "import scipy.io\n",
    "import numpy as np\n",
    "import pandas as pd\n",
    "from tqdm.notebook import tqdm\n",
    "import matplotlib.pyplot as plt\n",
    "import seaborn as sns\n",
    "from collections import Counter\n",
    "import cv2\n",
    "import os\n",
    "import glob\n",
    "import skimage\n",
    "from scipy import io as spio\n",
    "import numpy as np\n",
    "import pandas as pd\n",
    "import seaborn as sn\n",
    "from tqdm import tqdm\n",
    "from PIL import Image\n",
    "from os import listdir\n",
    "import matplotlib.pyplot as plt\n",
    "from skimage.transform import resize\n",
    "from collections import Counter\n",
    "\n",
    "sn.set()\n",
    "\n",
    "from sklearn.svm import SVC # SVC\n",
    "from sklearn import metrics\n",
    "from sklearn.utils import shuffle\n",
    "from sklearn import metrics\n",
    "from sklearn.metrics import accuracy_score\n",
    "from sklearn.metrics import confusion_matrix, accuracy_score\n",
    "from sklearn.model_selection import train_test_split\n",
    "\n",
    "import tensorflow \n",
    "from tensorflow.keras.preprocessing import image\n",
    "from tensorflow.keras.models import Model, Sequential\n",
    "from tensorflow.keras.applications.vgg16 import VGG16 # VGG16\n",
    "from tensorflow.keras.applications.vgg19 import VGG19 # VGG19\n",
    "from tensorflow.keras.applications.resnet50 import ResNet50 # ResNet50\n",
    "from tensorflow.keras.applications.xception import Xception # Xception\n",
    "from tensorflow.keras.applications.mobilenet import MobileNet # MobileNet\n",
    "from tensorflow.keras.applications.nasnet import NASNetMobile # NASNetMobile\n",
    "from tensorflow.keras.applications.densenet import DenseNet169 # DenseNet169\n",
    "from tensorflow.keras.applications.densenet import DenseNet121 # DenseNet121\n",
    "from tensorflow.keras.applications.mobilenet_v2 import MobileNetV2 # MobileNetV2\n",
    "from tensorflow.keras.applications.inception_v3 import InceptionV3 # InceptionV3\n",
    "from tensorflow.keras.layers import Input, Dense, Dropout, BatchNormalization, Flatten, Activation, GlobalAveragePooling2D,Conv2D, MaxPooling2D\n",
    "from tensorflow.keras.callbacks import EarlyStopping, ModelCheckpoint\n",
    "from keras.preprocessing.image import ImageDataGenerator\n",
    "from keras.utils.np_utils import to_categorical # convert to one-hot-encoding\n",
    "import keras\n",
    "import warnings\n",
    "warnings.filterwarnings(\"ignore\")\n",
    "import os"
   ]
  },
  {
   "cell_type": "markdown",
   "metadata": {
    "id": "bUEcQGLiTBCA"
   },
   "source": [
    "\n",
    "# Loading The Dataset"
   ]
  },
  {
   "cell_type": "code",
   "execution_count": 2,
   "metadata": {
    "id": "9t9tS-iNa9qf",
    "outputId": "055433fa-1b91-4d61-ad16-2d21983984e2"
   },
   "outputs": [
    {
     "data": {
      "text/html": [
       "<div>\n",
       "<style scoped>\n",
       "    .dataframe tbody tr th:only-of-type {\n",
       "        vertical-align: middle;\n",
       "    }\n",
       "\n",
       "    .dataframe tbody tr th {\n",
       "        vertical-align: top;\n",
       "    }\n",
       "\n",
       "    .dataframe thead th {\n",
       "        text-align: right;\n",
       "    }\n",
       "</style>\n",
       "<table border=\"1\" class=\"dataframe\">\n",
       "  <thead>\n",
       "    <tr style=\"text-align: right;\">\n",
       "      <th></th>\n",
       "      <th>label</th>\n",
       "      <th>1x1</th>\n",
       "      <th>1x2</th>\n",
       "      <th>1x3</th>\n",
       "      <th>1x4</th>\n",
       "      <th>1x5</th>\n",
       "      <th>1x6</th>\n",
       "      <th>1x7</th>\n",
       "      <th>1x8</th>\n",
       "      <th>1x9</th>\n",
       "      <th>...</th>\n",
       "      <th>28x19</th>\n",
       "      <th>28x20</th>\n",
       "      <th>28x21</th>\n",
       "      <th>28x22</th>\n",
       "      <th>28x23</th>\n",
       "      <th>28x24</th>\n",
       "      <th>28x25</th>\n",
       "      <th>28x26</th>\n",
       "      <th>28x27</th>\n",
       "      <th>28x28</th>\n",
       "    </tr>\n",
       "  </thead>\n",
       "  <tbody>\n",
       "    <tr>\n",
       "      <th>0</th>\n",
       "      <td>5</td>\n",
       "      <td>0</td>\n",
       "      <td>0</td>\n",
       "      <td>0</td>\n",
       "      <td>0</td>\n",
       "      <td>0</td>\n",
       "      <td>0</td>\n",
       "      <td>0</td>\n",
       "      <td>0</td>\n",
       "      <td>0</td>\n",
       "      <td>...</td>\n",
       "      <td>0</td>\n",
       "      <td>0</td>\n",
       "      <td>0</td>\n",
       "      <td>0</td>\n",
       "      <td>0</td>\n",
       "      <td>0</td>\n",
       "      <td>0</td>\n",
       "      <td>0</td>\n",
       "      <td>0</td>\n",
       "      <td>0</td>\n",
       "    </tr>\n",
       "    <tr>\n",
       "      <th>1</th>\n",
       "      <td>0</td>\n",
       "      <td>0</td>\n",
       "      <td>0</td>\n",
       "      <td>0</td>\n",
       "      <td>0</td>\n",
       "      <td>0</td>\n",
       "      <td>0</td>\n",
       "      <td>0</td>\n",
       "      <td>0</td>\n",
       "      <td>0</td>\n",
       "      <td>...</td>\n",
       "      <td>0</td>\n",
       "      <td>0</td>\n",
       "      <td>0</td>\n",
       "      <td>0</td>\n",
       "      <td>0</td>\n",
       "      <td>0</td>\n",
       "      <td>0</td>\n",
       "      <td>0</td>\n",
       "      <td>0</td>\n",
       "      <td>0</td>\n",
       "    </tr>\n",
       "    <tr>\n",
       "      <th>2</th>\n",
       "      <td>4</td>\n",
       "      <td>0</td>\n",
       "      <td>0</td>\n",
       "      <td>0</td>\n",
       "      <td>0</td>\n",
       "      <td>0</td>\n",
       "      <td>0</td>\n",
       "      <td>0</td>\n",
       "      <td>0</td>\n",
       "      <td>0</td>\n",
       "      <td>...</td>\n",
       "      <td>0</td>\n",
       "      <td>0</td>\n",
       "      <td>0</td>\n",
       "      <td>0</td>\n",
       "      <td>0</td>\n",
       "      <td>0</td>\n",
       "      <td>0</td>\n",
       "      <td>0</td>\n",
       "      <td>0</td>\n",
       "      <td>0</td>\n",
       "    </tr>\n",
       "    <tr>\n",
       "      <th>3</th>\n",
       "      <td>1</td>\n",
       "      <td>0</td>\n",
       "      <td>0</td>\n",
       "      <td>0</td>\n",
       "      <td>0</td>\n",
       "      <td>0</td>\n",
       "      <td>0</td>\n",
       "      <td>0</td>\n",
       "      <td>0</td>\n",
       "      <td>0</td>\n",
       "      <td>...</td>\n",
       "      <td>0</td>\n",
       "      <td>0</td>\n",
       "      <td>0</td>\n",
       "      <td>0</td>\n",
       "      <td>0</td>\n",
       "      <td>0</td>\n",
       "      <td>0</td>\n",
       "      <td>0</td>\n",
       "      <td>0</td>\n",
       "      <td>0</td>\n",
       "    </tr>\n",
       "    <tr>\n",
       "      <th>4</th>\n",
       "      <td>9</td>\n",
       "      <td>0</td>\n",
       "      <td>0</td>\n",
       "      <td>0</td>\n",
       "      <td>0</td>\n",
       "      <td>0</td>\n",
       "      <td>0</td>\n",
       "      <td>0</td>\n",
       "      <td>0</td>\n",
       "      <td>0</td>\n",
       "      <td>...</td>\n",
       "      <td>0</td>\n",
       "      <td>0</td>\n",
       "      <td>0</td>\n",
       "      <td>0</td>\n",
       "      <td>0</td>\n",
       "      <td>0</td>\n",
       "      <td>0</td>\n",
       "      <td>0</td>\n",
       "      <td>0</td>\n",
       "      <td>0</td>\n",
       "    </tr>\n",
       "  </tbody>\n",
       "</table>\n",
       "<p>5 rows × 785 columns</p>\n",
       "</div>"
      ],
      "text/plain": [
       "   label  1x1  1x2  1x3  1x4  1x5  1x6  1x7  1x8  1x9  ...  28x19  28x20  \\\n",
       "0      5    0    0    0    0    0    0    0    0    0  ...      0      0   \n",
       "1      0    0    0    0    0    0    0    0    0    0  ...      0      0   \n",
       "2      4    0    0    0    0    0    0    0    0    0  ...      0      0   \n",
       "3      1    0    0    0    0    0    0    0    0    0  ...      0      0   \n",
       "4      9    0    0    0    0    0    0    0    0    0  ...      0      0   \n",
       "\n",
       "   28x21  28x22  28x23  28x24  28x25  28x26  28x27  28x28  \n",
       "0      0      0      0      0      0      0      0      0  \n",
       "1      0      0      0      0      0      0      0      0  \n",
       "2      0      0      0      0      0      0      0      0  \n",
       "3      0      0      0      0      0      0      0      0  \n",
       "4      0      0      0      0      0      0      0      0  \n",
       "\n",
       "[5 rows x 785 columns]"
      ]
     },
     "execution_count": 2,
     "metadata": {},
     "output_type": "execute_result"
    }
   ],
   "source": [
    "train = pd.read_csv(\"mnist_train.csv\")\n",
    "test = pd.read_csv(\"mnist_test.csv\")\n",
    "train.head()"
   ]
  },
  {
   "cell_type": "code",
   "execution_count": 3,
   "metadata": {
    "id": "lRFatp4E7_3w",
    "outputId": "e0c4f6aa-8ef0-4644-e46b-ebb236989e6f"
   },
   "outputs": [
    {
     "data": {
      "text/html": [
       "<div>\n",
       "<style scoped>\n",
       "    .dataframe tbody tr th:only-of-type {\n",
       "        vertical-align: middle;\n",
       "    }\n",
       "\n",
       "    .dataframe tbody tr th {\n",
       "        vertical-align: top;\n",
       "    }\n",
       "\n",
       "    .dataframe thead th {\n",
       "        text-align: right;\n",
       "    }\n",
       "</style>\n",
       "<table border=\"1\" class=\"dataframe\">\n",
       "  <thead>\n",
       "    <tr style=\"text-align: right;\">\n",
       "      <th></th>\n",
       "      <th>label</th>\n",
       "      <th>1x1</th>\n",
       "      <th>1x2</th>\n",
       "      <th>1x3</th>\n",
       "      <th>1x4</th>\n",
       "      <th>1x5</th>\n",
       "      <th>1x6</th>\n",
       "      <th>1x7</th>\n",
       "      <th>1x8</th>\n",
       "      <th>1x9</th>\n",
       "      <th>...</th>\n",
       "      <th>28x19</th>\n",
       "      <th>28x20</th>\n",
       "      <th>28x21</th>\n",
       "      <th>28x22</th>\n",
       "      <th>28x23</th>\n",
       "      <th>28x24</th>\n",
       "      <th>28x25</th>\n",
       "      <th>28x26</th>\n",
       "      <th>28x27</th>\n",
       "      <th>28x28</th>\n",
       "    </tr>\n",
       "  </thead>\n",
       "  <tbody>\n",
       "    <tr>\n",
       "      <th>0</th>\n",
       "      <td>7</td>\n",
       "      <td>0</td>\n",
       "      <td>0</td>\n",
       "      <td>0</td>\n",
       "      <td>0</td>\n",
       "      <td>0</td>\n",
       "      <td>0</td>\n",
       "      <td>0</td>\n",
       "      <td>0</td>\n",
       "      <td>0</td>\n",
       "      <td>...</td>\n",
       "      <td>0</td>\n",
       "      <td>0</td>\n",
       "      <td>0</td>\n",
       "      <td>0</td>\n",
       "      <td>0</td>\n",
       "      <td>0</td>\n",
       "      <td>0</td>\n",
       "      <td>0</td>\n",
       "      <td>0</td>\n",
       "      <td>0</td>\n",
       "    </tr>\n",
       "    <tr>\n",
       "      <th>1</th>\n",
       "      <td>2</td>\n",
       "      <td>0</td>\n",
       "      <td>0</td>\n",
       "      <td>0</td>\n",
       "      <td>0</td>\n",
       "      <td>0</td>\n",
       "      <td>0</td>\n",
       "      <td>0</td>\n",
       "      <td>0</td>\n",
       "      <td>0</td>\n",
       "      <td>...</td>\n",
       "      <td>0</td>\n",
       "      <td>0</td>\n",
       "      <td>0</td>\n",
       "      <td>0</td>\n",
       "      <td>0</td>\n",
       "      <td>0</td>\n",
       "      <td>0</td>\n",
       "      <td>0</td>\n",
       "      <td>0</td>\n",
       "      <td>0</td>\n",
       "    </tr>\n",
       "    <tr>\n",
       "      <th>2</th>\n",
       "      <td>1</td>\n",
       "      <td>0</td>\n",
       "      <td>0</td>\n",
       "      <td>0</td>\n",
       "      <td>0</td>\n",
       "      <td>0</td>\n",
       "      <td>0</td>\n",
       "      <td>0</td>\n",
       "      <td>0</td>\n",
       "      <td>0</td>\n",
       "      <td>...</td>\n",
       "      <td>0</td>\n",
       "      <td>0</td>\n",
       "      <td>0</td>\n",
       "      <td>0</td>\n",
       "      <td>0</td>\n",
       "      <td>0</td>\n",
       "      <td>0</td>\n",
       "      <td>0</td>\n",
       "      <td>0</td>\n",
       "      <td>0</td>\n",
       "    </tr>\n",
       "    <tr>\n",
       "      <th>3</th>\n",
       "      <td>0</td>\n",
       "      <td>0</td>\n",
       "      <td>0</td>\n",
       "      <td>0</td>\n",
       "      <td>0</td>\n",
       "      <td>0</td>\n",
       "      <td>0</td>\n",
       "      <td>0</td>\n",
       "      <td>0</td>\n",
       "      <td>0</td>\n",
       "      <td>...</td>\n",
       "      <td>0</td>\n",
       "      <td>0</td>\n",
       "      <td>0</td>\n",
       "      <td>0</td>\n",
       "      <td>0</td>\n",
       "      <td>0</td>\n",
       "      <td>0</td>\n",
       "      <td>0</td>\n",
       "      <td>0</td>\n",
       "      <td>0</td>\n",
       "    </tr>\n",
       "    <tr>\n",
       "      <th>4</th>\n",
       "      <td>4</td>\n",
       "      <td>0</td>\n",
       "      <td>0</td>\n",
       "      <td>0</td>\n",
       "      <td>0</td>\n",
       "      <td>0</td>\n",
       "      <td>0</td>\n",
       "      <td>0</td>\n",
       "      <td>0</td>\n",
       "      <td>0</td>\n",
       "      <td>...</td>\n",
       "      <td>0</td>\n",
       "      <td>0</td>\n",
       "      <td>0</td>\n",
       "      <td>0</td>\n",
       "      <td>0</td>\n",
       "      <td>0</td>\n",
       "      <td>0</td>\n",
       "      <td>0</td>\n",
       "      <td>0</td>\n",
       "      <td>0</td>\n",
       "    </tr>\n",
       "  </tbody>\n",
       "</table>\n",
       "<p>5 rows × 785 columns</p>\n",
       "</div>"
      ],
      "text/plain": [
       "   label  1x1  1x2  1x3  1x4  1x5  1x6  1x7  1x8  1x9  ...  28x19  28x20  \\\n",
       "0      7    0    0    0    0    0    0    0    0    0  ...      0      0   \n",
       "1      2    0    0    0    0    0    0    0    0    0  ...      0      0   \n",
       "2      1    0    0    0    0    0    0    0    0    0  ...      0      0   \n",
       "3      0    0    0    0    0    0    0    0    0    0  ...      0      0   \n",
       "4      4    0    0    0    0    0    0    0    0    0  ...      0      0   \n",
       "\n",
       "   28x21  28x22  28x23  28x24  28x25  28x26  28x27  28x28  \n",
       "0      0      0      0      0      0      0      0      0  \n",
       "1      0      0      0      0      0      0      0      0  \n",
       "2      0      0      0      0      0      0      0      0  \n",
       "3      0      0      0      0      0      0      0      0  \n",
       "4      0      0      0      0      0      0      0      0  \n",
       "\n",
       "[5 rows x 785 columns]"
      ]
     },
     "execution_count": 3,
     "metadata": {},
     "output_type": "execute_result"
    }
   ],
   "source": [
    "test.head()"
   ]
  },
  {
   "cell_type": "code",
   "execution_count": 4,
   "metadata": {
    "id": "YxsZQi1D7_3x"
   },
   "outputs": [],
   "source": [
    "X = train.iloc[:, 1:].values\n",
    "y = train.iloc[:, 0].values\n",
    "X_test = test.iloc[:,1:].values\n",
    "y_test = test.iloc[:, 0].values"
   ]
  },
  {
   "cell_type": "code",
   "execution_count": 5,
   "metadata": {
    "id": "5DbeJ1sZkxXx"
   },
   "outputs": [],
   "source": [
    "X = X.reshape(X.shape[0], 28, 28)\n",
    "X_test = X_test.reshape(X_test.shape[0], 28, 28)"
   ]
  },
  {
   "cell_type": "code",
   "execution_count": 6,
   "metadata": {
    "id": "9WTRjk2GcjF0",
    "outputId": "6876d51b-7de3-4936-a2ae-bbef4fa00625"
   },
   "outputs": [
    {
     "data": {
      "text/plain": [
       "((60000, 28, 28), (60000,), (10000, 28, 28), (10000,))"
      ]
     },
     "execution_count": 6,
     "metadata": {},
     "output_type": "execute_result"
    }
   ],
   "source": [
    "X.shape, y.shape, X_test.shape,y_test.shape"
   ]
  },
  {
   "cell_type": "markdown",
   "metadata": {
    "id": "xTzRvlSenQA4"
   },
   "source": [
    "## Preprocessing the Data\n",
    "Creating three different functions:<br>\n",
    "- **resize** - This is created to resize the images in the given size\n",
    "- **resize_images** - This is resize the given array of images\n",
    "- **to_RGB** - This is used to convert the Black & White image into RGB image"
   ]
  },
  {
   "cell_type": "code",
   "execution_count": 7,
   "metadata": {
    "id": "e52QBR_3eTzm"
   },
   "outputs": [],
   "source": [
    "def resize(image,size):\n",
    "    image2 = np.zeros(size)\n",
    "    for i in range(image.shape[0]):\n",
    "        for j in range(image.shape[1]):\n",
    "            image2[i+2,j+2] = image[i,j]\n",
    "    return image2\n",
    "\n",
    "def resize_images(array,size):\n",
    "    \n",
    "    for image in array:\n",
    "        x=[]\n",
    "        image2 = np.zeros(size)\n",
    "        for i in range(image.shape[0]):\n",
    "            for j in range(image.shape[1]):\n",
    "                image2[i+2,j+2] = image[i,j]\n",
    "            x.append(image2)\n",
    "            \n",
    "        finall = np.array(x)\n",
    "        \n",
    "    return finall\n",
    "\n",
    "def to_RGB(image):\n",
    "    shape = image.shape\n",
    "    dim = np.zeros(shape)\n",
    "    rr = np.stack((image,dim,dim),axis=2)\n",
    "    return rr"
   ]
  },
  {
   "cell_type": "code",
   "execution_count": 8,
   "metadata": {
    "id": "ZRmKPIhkekyQ"
   },
   "outputs": [],
   "source": [
    "x=[]\n",
    "for image in X:\n",
    "    x.append(resize(image,(32,32)))\n",
    "train = np.array(x)\n",
    "\n",
    "x=[]\n",
    "for image in train:\n",
    "    rr = to_RGB(image)\n",
    "    x.append(rr)\n",
    "train = np.array(x)\n",
    "\n",
    "X = train/255.0"
   ]
  },
  {
   "cell_type": "code",
   "execution_count": 9,
   "metadata": {
    "id": "fDEg4tLi24qJ"
   },
   "outputs": [],
   "source": [
    "del train"
   ]
  },
  {
   "cell_type": "code",
   "execution_count": 10,
   "metadata": {
    "id": "CfK6dodqkxX1"
   },
   "outputs": [],
   "source": [
    "x=[]\n",
    "for image in X_test:\n",
    "    x.append(resize(image,(32,32)))\n",
    "test = np.array(x)\n",
    "\n",
    "x=[]\n",
    "for image in test:\n",
    "    rr = to_RGB(image)\n",
    "    x.append(rr)\n",
    "test = np.array(x)\n",
    "\n",
    "X_test = test/255.0"
   ]
  },
  {
   "cell_type": "code",
   "execution_count": 11,
   "metadata": {
    "id": "tPBhveq-kxX1"
   },
   "outputs": [],
   "source": [
    "del test"
   ]
  },
  {
   "cell_type": "markdown",
   "metadata": {
    "id": "Yu-vKO_ldA7N"
   },
   "source": [
    "One Hot Encoding the target variable using Keras in built function **to_categorical**"
   ]
  },
  {
   "cell_type": "code",
   "execution_count": 12,
   "metadata": {
    "id": "_Cg9haMqe-rC"
   },
   "outputs": [],
   "source": [
    "y = to_categorical(y, 10)\n",
    "y_test = to_categorical(y_test, 10)"
   ]
  },
  {
   "cell_type": "markdown",
   "metadata": {
    "id": "z64qLNNTvVFi"
   },
   "source": [
    "Function to plot training and validation accuracy and loss"
   ]
  },
  {
   "cell_type": "code",
   "execution_count": 13,
   "metadata": {
    "id": "J4FFHiYjvT14"
   },
   "outputs": [],
   "source": [
    "def plot(history):\n",
    "  accuracy = history.history['acc']\n",
    "  val_accuracy = history.history['val_acc']\n",
    "  loss = history.history['loss']\n",
    "  val_loss = history.history['val_loss']\n",
    "\n",
    "  epochs = len(accuracy)\n",
    "\n",
    "  plt.plot(range(epochs), accuracy, 'b', label='Training accuracy')\n",
    "  plt.plot(range(epochs), val_accuracy, 'r', label='Validation accuracy')\n",
    "  plt.title('Training and validation accuracy')\n",
    "  plt.legend()\n",
    "\n",
    "  plt.figure()\n",
    "\n",
    "  plt.plot(range(epochs), loss, 'b', label='Training Loss')\n",
    "  plt.plot(range(epochs), val_loss, 'r', label='Validation Loss')\n",
    "  plt.title('Training and validation loss')\n",
    "  plt.legend()\n",
    "\n",
    "  plt.show()"
   ]
  },
  {
   "cell_type": "markdown",
   "metadata": {
    "id": "KUWn8YU7oy7t"
   },
   "source": [
    "## VGG16"
   ]
  },
  {
   "cell_type": "code",
   "execution_count": 14,
   "metadata": {
    "id": "hh0EeJWcf33c",
    "outputId": "d732da92-1d36-440a-edb6-6db805273a18"
   },
   "outputs": [
    {
     "name": "stdout",
     "output_type": "stream",
     "text": [
      "Model: \"sequential\"\n",
      "_________________________________________________________________\n",
      "Layer (type)                 Output Shape              Param #   \n",
      "=================================================================\n",
      "vgg16 (Model)                (None, 1, 1, 512)         14714688  \n",
      "_________________________________________________________________\n",
      "flatten (Flatten)            (None, 512)               0         \n",
      "_________________________________________________________________\n",
      "dense (Dense)                (None, 256)               131328    \n",
      "_________________________________________________________________\n",
      "dense_1 (Dense)              (None, 10)                2570      \n",
      "=================================================================\n",
      "Total params: 14,848,586\n",
      "Trainable params: 133,898\n",
      "Non-trainable params: 14,714,688\n",
      "_________________________________________________________________\n"
     ]
    }
   ],
   "source": [
    "base_model_vgg16 = VGG16(weights='imagenet',include_top=False,input_shape=(32, 32, 3))\n",
    "\n",
    "# Freezing Layers\n",
    "for layer in base_model_vgg16.layers:\n",
    "    layer.trainable=False\n",
    "\n",
    "# Building Model\n",
    "\n",
    "model = Sequential()\n",
    "model.add(base_model_vgg16)\n",
    "model.add(Flatten())\n",
    "model.add(Dense(256, activation='relu'))\n",
    "model.add(Dense(10, activation='sigmoid'))\n",
    "\n",
    "model.summary()"
   ]
  },
  {
   "cell_type": "code",
   "execution_count": 15,
   "metadata": {},
   "outputs": [
    {
     "data": {
      "text/plain": [
       "4"
      ]
     },
     "execution_count": 15,
     "metadata": {},
     "output_type": "execute_result"
    }
   ],
   "source": [
    "len(model.layers)"
   ]
  },
  {
   "cell_type": "code",
   "execution_count": 16,
   "metadata": {
    "id": "Gihs_rYKgjpB"
   },
   "outputs": [],
   "source": [
    "model.compile(loss='categorical_crossentropy',optimizer='adam',metrics=['acc'])"
   ]
  },
  {
   "cell_type": "code",
   "execution_count": null,
   "metadata": {
    "id": "UDjX7H4Hgysi",
    "outputId": "065c38bd-d451-4898-e48d-9847715648ef"
   },
   "outputs": [
    {
     "name": "stdout",
     "output_type": "stream",
     "text": [
      "Train on 48000 samples, validate on 12000 samples\n",
      "Epoch 1/20\n",
      "47984/48000 [============================>.] - ETA: 0s - loss: 0.3118 - acc: 0.9026"
     ]
    }
   ],
   "source": [
    "import time\n",
    "t0=time.time()\n",
    "vgg16_history  = model.fit(X,y,epochs=20,validation_split = 0.2, batch_size=16 )\n",
    "print(\"Time taken to train the model:\", round(time.time()-t0, 2), \"seconds\")\n",
    "print(\"==========================================\")\n",
    "print()"
   ]
  },
  {
   "cell_type": "markdown",
   "metadata": {
    "id": "LwtO3zs5269M",
    "outputId": "32e16c7d-9ac0-470b-f491-bdcd051c08f9"
   },
   "source": [
    "#model.evaluate(X_test,y_test)"
   ]
  },
  {
   "cell_type": "code",
   "execution_count": null,
   "metadata": {},
   "outputs": [],
   "source": [
    "t1=time.time()\n",
    "model.evaluate(X_test,y_test)\n",
    "print(\"Time taken to predict test cases:\", round(time.time()-t1, 2), \"seconds\")\n",
    "print(\"==========================================\")\n",
    "print()"
   ]
  },
  {
   "cell_type": "code",
   "execution_count": null,
   "metadata": {
    "id": "M6oKzr4TvRgF",
    "outputId": "adf70101-4d3f-41ce-d5ce-1e89cb5c7705"
   },
   "outputs": [],
   "source": [
    "plot(vgg16_history)"
   ]
  },
  {
   "cell_type": "markdown",
   "metadata": {
    "id": "6w_tjhSpqVyk"
   },
   "source": [
    "# VGG19"
   ]
  },
  {
   "cell_type": "markdown",
   "metadata": {
    "id": "BNf92LkiiTFE"
   },
   "source": [
    "We have changed the last fuly connected layer to have 10 neurons instead of the 4096 present in the architecture in order to classify images into ten different classes."
   ]
  },
  {
   "cell_type": "code",
   "execution_count": null,
   "metadata": {
    "id": "dQf1euqaqVhB",
    "outputId": "e43ad7e1-b727-486f-b541-f22575b08d7c"
   },
   "outputs": [],
   "source": [
    "base_model_vgg19 = VGG19(weights='imagenet',include_top=False,input_shape=(32, 32, 3))\n",
    "\n",
    "# Freezing Layers\n",
    "for layer in base_model_vgg19.layers:\n",
    "    layer.trainable=False\n",
    "\n",
    "# Building Model\n",
    "\n",
    "model = Sequential()\n",
    "model.add(base_model_vgg19)\n",
    "model.add(Flatten())\n",
    "model.add(Dense(256, activation='relu'))\n",
    "model.add(Dense(10, activation='sigmoid'))\n",
    "\n",
    "model.summary()"
   ]
  },
  {
   "cell_type": "code",
   "execution_count": null,
   "metadata": {},
   "outputs": [],
   "source": [
    "len(model.layers)"
   ]
  },
  {
   "cell_type": "code",
   "execution_count": null,
   "metadata": {
    "id": "tuhtIEZaqVIJ"
   },
   "outputs": [],
   "source": [
    "model.compile(loss='categorical_crossentropy',optimizer='adam',metrics=['acc'])"
   ]
  },
  {
   "cell_type": "code",
   "execution_count": null,
   "metadata": {
    "id": "lROd9m3XqVA-",
    "outputId": "3cdd655b-60b6-4a91-fd15-c4c0507310d8"
   },
   "outputs": [],
   "source": [
    "t0=time.time()\n",
    "vgg19_history  = model.fit(X,y,epochs=20,validation_split = 0.2 )\n",
    "print(\"Time taken to train the model:\", round(time.time()-t0, 2), \"seconds\")\n",
    "print(\"==========================================\")\n",
    "print()\n",
    "\n"
   ]
  },
  {
   "cell_type": "code",
   "execution_count": null,
   "metadata": {
    "id": "vCeNpi9_4aCk",
    "outputId": "a7d748a8-5338-40f2-9255-debf87bd5fcd"
   },
   "outputs": [],
   "source": [
    "t1=time.time()\n",
    "model.evaluate(X_test,y_test)\n",
    "print(\"Time taken to predict test cases:\", round(time.time()-t1, 2), \"seconds\")\n",
    "print(\"==========================================\")\n",
    "print()\n"
   ]
  },
  {
   "cell_type": "markdown",
   "metadata": {
    "id": "HJVbbwbG5o2B"
   },
   "source": [
    "The Test set __Accuracy__ is __97.36%__ "
   ]
  },
  {
   "cell_type": "code",
   "execution_count": null,
   "metadata": {
    "id": "XWkp0UVzwDnX",
    "outputId": "64dcb366-b182-443a-987b-78e311070e81"
   },
   "outputs": [],
   "source": [
    "plot(vgg19_history)"
   ]
  },
  {
   "cell_type": "markdown",
   "metadata": {
    "id": "vtcPWfqzq_HV"
   },
   "source": [
    "# ResNet-50"
   ]
  },
  {
   "cell_type": "code",
   "execution_count": null,
   "metadata": {
    "id": "2eAkM50xg0a7",
    "outputId": "08b60e6a-c44c-4ba2-e5c1-f62c345b99bf"
   },
   "outputs": [],
   "source": [
    "resnet50_model = ResNet50(weights='imagenet',include_top=False,input_shape=(32, 32, 3))\n",
    "\n",
    "# Freezing Layers\n",
    "for layer in resnet50_model.layers:\n",
    "    layer.trainable=False\n",
    "    \n",
    "resnet_50_model = Sequential()\n",
    "resnet_50_model.add(resnet50_model)\n",
    "resnet_50_model.add(Flatten())\n",
    "resnet_50_model.add(Dense(256, activation='relu'))\n",
    "resnet_50_model.add(Dense(10, activation='softmax'))\n",
    "resnet_50_model.summary()"
   ]
  },
  {
   "cell_type": "code",
   "execution_count": null,
   "metadata": {},
   "outputs": [],
   "source": [
    "len(resnet_50_model.layers)"
   ]
  },
  {
   "cell_type": "code",
   "execution_count": null,
   "metadata": {
    "id": "4V6Y6cfej5m8"
   },
   "outputs": [],
   "source": [
    "resnet_50_model.compile(loss='categorical_crossentropy',optimizer='adam',metrics=['acc'])"
   ]
  },
  {
   "cell_type": "code",
   "execution_count": null,
   "metadata": {
    "id": "ENjxSQ3dqzOv",
    "outputId": "ede6c240-e92f-4038-c467-283497a77799"
   },
   "outputs": [],
   "source": [
    "t0=time.time()\n",
    "resnet_50_history  = resnet_50_model.fit(X,y,epochs=20,validation_split = 0.2)\n",
    "print(\"Time taken to train the model:\", round(time.time()-t0, 2), \"seconds\")\n",
    "print(\"==========================================\")\n",
    "print()"
   ]
  },
  {
   "cell_type": "code",
   "execution_count": null,
   "metadata": {
    "id": "mpcTfYYF46yI",
    "outputId": "4d3b4a2a-0d24-45c1-c9dd-087827c3c983"
   },
   "outputs": [],
   "source": [
    "t1=time.time()\n",
    "resnet_50_model.evaluate(X_test,y_test)\n",
    "print(\"Time taken to predict test cases:\", round(time.time()-t1, 2), \"seconds\")\n",
    "print(\"==========================================\")\n",
    "print()\n",
    "\n"
   ]
  },
  {
   "cell_type": "markdown",
   "metadata": {
    "id": "IF-taDHm6peI"
   },
   "source": [
    "The Test Set __Accuracy__ is __86.76%__"
   ]
  },
  {
   "cell_type": "code",
   "execution_count": null,
   "metadata": {
    "id": "WGewr0wOwHvz",
    "outputId": "95f61ed2-2a79-43b9-bb4b-055ce597c310"
   },
   "outputs": [],
   "source": [
    "plot(resnet_50_history)"
   ]
  },
  {
   "cell_type": "markdown",
   "metadata": {
    "id": "kSqCWdNFrH6_"
   },
   "source": [
    "# ResNet-101"
   ]
  },
  {
   "cell_type": "code",
   "execution_count": null,
   "metadata": {
    "id": "p_RlqYHdrKHO",
    "outputId": "0981a55e-c9bb-4978-9960-d4250133ca71"
   },
   "outputs": [],
   "source": [
    "resnet101_model = tensorflow.keras.applications.ResNet101(weights='imagenet',include_top=False,input_shape=(32, 32, 3))\n",
    "\n",
    "# Freezing Layers\n",
    "for layer in resnet101_model.layers:\n",
    "    layer.trainable=False\n",
    "    \n",
    "resnet_101_model = Sequential()\n",
    "resnet_101_model.add(resnet101_model)\n",
    "resnet_101_model.add(Flatten())\n",
    "resnet_101_model.add(Dense(64, activation='relu'))\n",
    "resnet_101_model.add(Dense(10, activation='sigmoid'))\n",
    "resnet_101_model.summary()"
   ]
  },
  {
   "cell_type": "code",
   "execution_count": null,
   "metadata": {},
   "outputs": [],
   "source": [
    "len(resnet_101_model.layers)"
   ]
  },
  {
   "cell_type": "code",
   "execution_count": null,
   "metadata": {
    "id": "i6gNJeMsrlgl"
   },
   "outputs": [],
   "source": [
    "resnet_101_model.compile(loss='categorical_crossentropy',optimizer='adam',metrics=['acc'])"
   ]
  },
  {
   "cell_type": "code",
   "execution_count": null,
   "metadata": {
    "id": "PM0aaUq0rrn_",
    "outputId": "ff0432fe-eb11-44d4-efc2-da3b78357e92"
   },
   "outputs": [],
   "source": [
    "t0=time.time()\n",
    "resnet_101_history  = resnet_101_model.fit(X,y,epochs=20,validation_split = 0.2)\n",
    "print(\"Time taken to train the model:\", round(time.time()-t0, 2), \"seconds\")\n",
    "print(\"==========================================\")\n",
    "print()\n"
   ]
  },
  {
   "cell_type": "code",
   "execution_count": null,
   "metadata": {
    "id": "hNxBfFBl5RoH",
    "outputId": "18f64471-a7f4-4b6c-ee52-802309f00fb8"
   },
   "outputs": [],
   "source": [
    "t1=time.time()\n",
    "resnet_101_model.evaluate(X_test,y_test)\n",
    "print(\"Time taken to predict test cases:\", round(time.time()-t1, 2), \"seconds\")\n",
    "print(\"==========================================\")\n",
    "print()\n",
    "\n",
    "\n",
    "\n"
   ]
  },
  {
   "cell_type": "markdown",
   "metadata": {
    "id": "qKwuPeW96dhL"
   },
   "source": [
    "The Test Set  __Accuracy__  is __75.99%__"
   ]
  },
  {
   "cell_type": "code",
   "execution_count": null,
   "metadata": {
    "id": "9yfhzDYBwKqR",
    "outputId": "7cfb9baf-af30-4692-ccd6-eada0c6da868"
   },
   "outputs": [],
   "source": [
    "plot(resnet_101_history)"
   ]
  },
  {
   "cell_type": "markdown",
   "metadata": {
    "id": "ajGrDkCzsYzJ"
   },
   "source": [
    "# DenseNet 121"
   ]
  },
  {
   "cell_type": "code",
   "execution_count": null,
   "metadata": {
    "id": "i3jNmRw_scaE",
    "outputId": "30d66bae-8f0a-451c-a5c1-9450424781bf"
   },
   "outputs": [],
   "source": [
    "base_model_densenet121 = DenseNet121(weights='imagenet',include_top=False,input_shape=(32, 32, 3))\n",
    "\n",
    "# Freezing Layers\n",
    "for layer in base_model_densenet121.layers:\n",
    "    layer.trainable=False\n",
    "\n",
    "# Building Model\n",
    "\n",
    "model_densenet_121 = Sequential()\n",
    "model_densenet_121.add(base_model_densenet121)\n",
    "model_densenet_121.add(Flatten())\n",
    "model_densenet_121.add(Dense(256, activation='relu'))\n",
    "model_densenet_121.add(Dense(10, activation='sigmoid'))\n",
    "\n",
    "model_densenet_121.summary()"
   ]
  },
  {
   "cell_type": "code",
   "execution_count": null,
   "metadata": {},
   "outputs": [],
   "source": [
    "len(model_densenet_121.layers)"
   ]
  },
  {
   "cell_type": "code",
   "execution_count": null,
   "metadata": {
    "id": "z_txHCrXsdOX"
   },
   "outputs": [],
   "source": [
    "model_densenet_121.compile(loss='categorical_crossentropy',optimizer='adam',metrics=['acc'])"
   ]
  },
  {
   "cell_type": "code",
   "execution_count": null,
   "metadata": {
    "id": "vRFo5iY1sc_J",
    "outputId": "e51dfec0-4e4a-45b3-c40b-8ed2e707cd79"
   },
   "outputs": [],
   "source": [
    "t0=time.time()\n",
    "densenet_121_history  = model_densenet_121.fit(X,y,epochs=20,validation_split =0.2 )\n",
    "print(\"Time taken to train the model:\", round(time.time()-t0, 2), \"seconds\")\n",
    "print(\"==========================================\")\n",
    "print()\n",
    "\n"
   ]
  },
  {
   "cell_type": "code",
   "execution_count": null,
   "metadata": {
    "id": "Vo6j3HsU8HVm",
    "outputId": "0c4fde9d-d761-466e-9e40-90c072ab5ad2"
   },
   "outputs": [],
   "source": [
    "t1=time.time()\n",
    "model_densenet_121.evaluate(X_test,y_test)\n",
    "print(\"Time taken to predict test cases:\", round(time.time()-t1, 2), \"seconds\")\n",
    "print(\"==========================================\")\n",
    "print()\n",
    "\n",
    "\n",
    "\n"
   ]
  },
  {
   "cell_type": "markdown",
   "metadata": {
    "id": "MFAVBB2V8Mgo"
   },
   "source": [
    "The Test Set __Accuracy__ is __97.03%__"
   ]
  },
  {
   "cell_type": "code",
   "execution_count": null,
   "metadata": {
    "id": "njdlDl5UwNTY",
    "outputId": "2aff80af-0922-424e-cf87-13d4651e47a9"
   },
   "outputs": [],
   "source": [
    "plot(densenet_121_history)"
   ]
  },
  {
   "cell_type": "markdown",
   "metadata": {},
   "source": [
    "### MobileNetv2"
   ]
  },
  {
   "cell_type": "code",
   "execution_count": null,
   "metadata": {
    "id": "1p-iKYLutndn",
    "outputId": "444a46cc-86be-4225-83ef-435784c48d55"
   },
   "outputs": [],
   "source": [
    "base_model_mobilenetv2 = MobileNetV2(weights='imagenet',include_top=False,input_shape=(32, 32, 3))\n",
    "\n",
    "# Freezing Layers\n",
    "for layer in base_model_mobilenetv2.layers:\n",
    "    layer.trainable=False\n",
    "\n",
    "# Building Model\n",
    "\n",
    "model_mobilenetv2 = Sequential()\n",
    "model_mobilenetv2.add(base_model_mobilenetv2)\n",
    "model_mobilenetv2.add(Flatten())\n",
    "model_mobilenetv2.add(Dense(256, activation='relu'))\n",
    "model_mobilenetv2.add(Dense(10, activation='sigmoid'))\n",
    "\n",
    "model_mobilenetv2.summary()"
   ]
  },
  {
   "cell_type": "code",
   "execution_count": null,
   "metadata": {},
   "outputs": [],
   "source": [
    "len(mdoel_mobilenetv2.layers)"
   ]
  },
  {
   "cell_type": "code",
   "execution_count": null,
   "metadata": {
    "id": "ARbshWZHtyOc"
   },
   "outputs": [],
   "source": [
    "model_mobilenetv2.compile(loss='categorical_crossentropy',optimizer='adam',metrics=['acc'])"
   ]
  },
  {
   "cell_type": "code",
   "execution_count": null,
   "metadata": {
    "id": "yoQGZ9IQtyIB",
    "outputId": "2c5a957e-d74f-418c-c798-e80c7a79daed"
   },
   "outputs": [],
   "source": [
    "t0=time.time()\n",
    "mobilenetv2_history  = model_mobilenetv2.fit(X,y,epochs=20,validation_split = 0.2)\n",
    "print(\"Time taken to train the model:\", round(time.time()-t0, 2), \"seconds\")\n",
    "print(\"==========================================\")\n",
    "print()"
   ]
  },
  {
   "cell_type": "code",
   "execution_count": null,
   "metadata": {
    "id": "HJKFy2qs_Svh",
    "outputId": "2075c58d-7b81-4132-c18e-88e42ed48de9"
   },
   "outputs": [],
   "source": [
    "t1=time.time()\n",
    "model_mobilenetv2.evaluate(X_test,y_test)\n",
    "print(\"Time taken to predict test cases:\", round(time.time()-t1, 2), \"seconds\")\n",
    "print(\"==========================================\")\n",
    "print()\n",
    "\n"
   ]
  },
  {
   "cell_type": "markdown",
   "metadata": {
    "id": "-R3iiebY_ZwZ"
   },
   "source": [
    "The Test Set **Accuracy** is **75.44%**"
   ]
  },
  {
   "cell_type": "code",
   "execution_count": null,
   "metadata": {
    "id": "KcNlGXAfwX4n",
    "outputId": "94f3895a-4677-4d17-8585-86c6835e57ef"
   },
   "outputs": [],
   "source": [
    "plot(mobilenetv2_history)"
   ]
  },
  {
   "cell_type": "markdown",
   "metadata": {
    "id": "k2vR5q3Jwm_x"
   },
   "source": [
    "# AlexNet"
   ]
  },
  {
   "cell_type": "code",
   "execution_count": null,
   "metadata": {
    "id": "bw7_Fo1mwmeH",
    "outputId": "7855d477-e27d-4f49-8c42-a1b739d1bb5b"
   },
   "outputs": [],
   "source": [
    "cnn_model = Sequential([\n",
    "                                     \n",
    "    keras.layers.Conv2D(filters=128, kernel_size=(11,11), strides=(4,4), activation='relu', input_shape=(32,32,3)),\n",
    "    keras.layers.BatchNormalization(),\n",
    "    keras.layers.MaxPool2D(pool_size=(2,2)),\n",
    "    keras.layers.Conv2D(filters=256, kernel_size=(5,5), strides=(1,1), activation='relu', padding=\"same\"),\n",
    "    keras.layers.BatchNormalization(),\n",
    "    keras.layers.MaxPool2D(pool_size=(3,3)),\n",
    "    keras.layers.Conv2D(filters=256, kernel_size=(3,3), strides=(1,1), activation='relu', padding=\"same\"),\n",
    "    keras.layers.BatchNormalization(),\n",
    "    keras.layers.Conv2D(filters=256, kernel_size=(1,1), strides=(1,1), activation='relu', padding=\"same\"),\n",
    "    keras.layers.BatchNormalization(),\n",
    "    keras.layers.Conv2D(filters=256, kernel_size=(1,1), strides=(1,1), activation='relu', padding=\"same\"),\n",
    "    keras.layers.BatchNormalization(),\n",
    "    keras.layers.Flatten(),\n",
    "\n",
    "    keras.layers.Dense(1024,activation='relu'),\n",
    "    keras.layers.Dropout(0.5),\n",
    "    keras.layers.Dense(1024,activation='relu'),\n",
    "    keras.layers.Dropout(0.5),\n",
    "    keras.layers.Dense(10,activation='softmax')  \n",
    "])\n",
    "cnn_model.summary()"
   ]
  },
  {
   "cell_type": "code",
   "execution_count": null,
   "metadata": {},
   "outputs": [],
   "source": [
    "len(cnn_model.layers)"
   ]
  },
  {
   "cell_type": "code",
   "execution_count": null,
   "metadata": {
    "id": "lWJPWAtKxUp8"
   },
   "outputs": [],
   "source": [
    "cnn_model.compile(loss = 'categorical_crossentropy',optimizer='adam', metrics = ['acc'])"
   ]
  },
  {
   "cell_type": "code",
   "execution_count": null,
   "metadata": {
    "id": "jDxIIkx0kxYk",
    "outputId": "f5026a1a-59e7-4bf5-ab93-8d73039db6b1"
   },
   "outputs": [],
   "source": [
    "t0=time.time()\n",
    "cnn_history  = cnn_model.fit(X,y,epochs=20,validation_split = 0.2 )\n",
    "print(\"Time taken to train the model:\", round(time.time()-t0, 2), \"seconds\")\n",
    "print(\"==========================================\")\n",
    "print()"
   ]
  },
  {
   "cell_type": "code",
   "execution_count": null,
   "metadata": {
    "id": "jBlzsoGl_1d_",
    "outputId": "f1199fce-067e-4ff8-c9ee-db4cd60b26fc"
   },
   "outputs": [],
   "source": [
    "t1=time.time()\n",
    "cnn_model.evaluate(X_test,y_test)\n",
    "print(\"Time taken to predict test cases:\", round(time.time()-t1, 2), \"seconds\")\n",
    "print(\"==========================================\")\n",
    "print()\n",
    "\n",
    "\n",
    "\n"
   ]
  },
  {
   "cell_type": "markdown",
   "metadata": {
    "id": "6hFaL30zAVJ8"
   },
   "source": [
    "The Test Set **Accuracy** is **98.66%** "
   ]
  },
  {
   "cell_type": "code",
   "execution_count": null,
   "metadata": {
    "id": "8GUGTPj3kxYl",
    "outputId": "79faf667-c7ef-4cca-9cbd-e80774fdc504"
   },
   "outputs": [],
   "source": [
    "plot(cnn_history)"
   ]
  },
  {
   "cell_type": "code",
   "execution_count": null,
   "metadata": {},
   "outputs": [],
   "source": []
  }
 ],
 "metadata": {
  "colab": {
   "name": "handwritten-digits-final.ipynb",
   "provenance": []
  },
  "kernelspec": {
   "display_name": "Python 3",
   "language": "python",
   "name": "python3"
  },
  "language_info": {
   "codemirror_mode": {
    "name": "ipython",
    "version": 3
   },
   "file_extension": ".py",
   "mimetype": "text/x-python",
   "name": "python",
   "nbconvert_exporter": "python",
   "pygments_lexer": "ipython3",
   "version": "3.7.9"
  }
 },
 "nbformat": 4,
 "nbformat_minor": 4
}
